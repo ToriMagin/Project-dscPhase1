{
 "cells": [
  {
   "cell_type": "markdown",
   "metadata": {},
   "source": [
    "![example](images/director_shot.jpeg)"
   ]
  },
  {
   "cell_type": "markdown",
   "metadata": {},
   "source": [
    "## copy 2  9am sun \n",
    "\n",
    "Aurthor: Tori Magin "
   ]
  },
  {
   "cell_type": "markdown",
   "metadata": {},
   "source": [
    "This <span style=\"color:red\">word</span> is not black."
   ]
  },
  {
   "cell_type": "markdown",
   "metadata": {},
   "source": [
    "## Overview & Business Problem\n",
    "\n",
    "Microsoft sees big companies creating original video content and they want to do get in on the action. They've decided to a create a new movie studeio, but don’t know what type of movies they should make. \n",
    "\n",
    "Without a solid understanding of the current movie landscape, Microsoft will not be able to make confident decisions on content creation. Therefore, this analysis will use data from online data bases, IMDB and Box Office Mojo, to identify trends and highlight elements that typically make a movie successful. For example, does critical aclaim (high ratings) translate to higher revenue. \n",
    "\n",
    "*For this analysis 'success' is defined as box office revenue, i.e., 'gross'. \n",
    "\n"
   ]
  },
  {
   "cell_type": "markdown",
   "metadata": {},
   "source": [
    "## The Data & Method \n",
    "\n",
    "The data for this analysis came IMDB and Box Office Mojo as they have large databases, tracking many features of each movie. For exmaple, IMDB is able to collate a large number of online reviews from a wide variety of sources to provide a representative average rating. \n",
    "\n",
    "The IMDB data (includes two data sets - \"Basics\" and \"Ratings\") describes the movie titles, release year, genres, running time, and ratings for movies from 2010 to present including future releases. \n",
    "\n",
    "The Box Office Mojo data details the domestic (US) and foreign gross each movie earned from 2010 to 2018. \n",
    "\n",
    "Only movie data from 2015 to 2022 was analysed to focus on the most recent and relvant trends. The average ratings, genres, and runtimes were  compared against the movies' total gross (combined domestic(US) and foreign gross) to identify elements of success. \n"
   ]
  },
  {
   "cell_type": "code",
   "execution_count": 1,
   "metadata": {},
   "outputs": [],
   "source": [
    "# Import standard packages\n",
    "import pandas as pd\n",
    "import numpy as np\n",
    "import matplotlib.pyplot as plt\n",
    "import seaborn as sns\n",
    "\n",
    "%matplotlib inline"
   ]
  },
  {
   "cell_type": "code",
   "execution_count": 2,
   "metadata": {},
   "outputs": [],
   "source": [
    "basics = pd.read_csv(\"data/zippedData/imdb.title.basics.csv.gz\")\n",
    "gross = pd.read_csv(\"data/zippedData/bom.movie_gross.csv.gz\")\n",
    "ratings = pd.read_csv(\"data/zippedData/imdb.title.ratings.csv.gz\")"
   ]
  },
  {
   "cell_type": "markdown",
   "metadata": {},
   "source": [
    "## Data Preparation\n",
    "\n",
    "Describe and justify the process for preparing the data for analysis.\n",
    "\n",
    "***\n",
    "Questions to consider:\n",
    "* Were there variables you dropped or created?\n",
    "* How did you address missing values or outliers?\n",
    "* Why are these choices appropriate given the data and the business problem?\n",
    "***"
   ]
  },
  {
   "cell_type": "code",
   "execution_count": 3,
   "metadata": {},
   "outputs": [],
   "source": [
    "#The largest data set, IMDB Basics, was filtered to records from 2015 - 2022 to remove old data and future data which could be unreliable. \n",
    "basics['start_year_real']=pd.to_datetime(basics['start_year'], format='%Y')\n",
    "recent_basics = basics.drop(basics[basics['start_year'] < 2015].index)"
   ]
  },
  {
   "cell_type": "code",
   "execution_count": 4,
   "metadata": {},
   "outputs": [],
   "source": [
    "recent_basics = recent_basics.drop(recent_basics[recent_basics['start_year'] > 2022].index)"
   ]
  },
  {
   "cell_type": "code",
   "execution_count": 5,
   "metadata": {},
   "outputs": [],
   "source": [
    "#IMDB Ratings was merged  onto IMDB Basics on 'tconst' the IMDB unique movie ID to make bnr (Basics 'n' Ratings). \n",
    "recent_basics = recent_basics.set_index('tconst')\n",
    "ratings = ratings.set_index('tconst')"
   ]
  },
  {
   "cell_type": "code",
   "execution_count": 6,
   "metadata": {},
   "outputs": [],
   "source": [
    "bnr = pd.merge(recent_basics,ratings, on=['tconst'],how='left') "
   ]
  },
  {
   "cell_type": "code",
   "execution_count": 7,
   "metadata": {
    "scrolled": true
   },
   "outputs": [],
   "source": [
    "#To merge with Box Office Mojo's Movie Gross， the 'primary title' column was renames 'title' to provide a common column to merge. \n",
    "bnr.rename(columns = {'primary_title':'title'}, inplace = True)"
   ]
  },
  {
   "cell_type": "code",
   "execution_count": null,
   "metadata": {},
   "outputs": [],
   "source": []
  },
  {
   "cell_type": "code",
   "execution_count": 8,
   "metadata": {},
   "outputs": [],
   "source": [
    "#Gross was merged on to the new bnr data frame, however this new dataframe (bnr_2) had a lot of missing gross values. \n",
    "bnr_2 = pd.merge(bnr,gross, on=['title'],how='left') "
   ]
  },
  {
   "cell_type": "code",
   "execution_count": 9,
   "metadata": {},
   "outputs": [],
   "source": [
    "#Any records missing domestic_gross values were removed. Because ~80% of the records had no domestic_gross value, \n",
    "#they could not be reliably filled with placeholder values. \n",
    "\n",
    "bnr_2.dropna(subset=['domestic_gross'], inplace=True)"
   ]
  },
  {
   "cell_type": "code",
   "execution_count": null,
   "metadata": {},
   "outputs": [],
   "source": []
  },
  {
   "cell_type": "code",
   "execution_count": 10,
   "metadata": {},
   "outputs": [],
   "source": [
    "#It was considered to also drop all foreign_gross null values, but this would result it too much data loss and the percentage of missing values \n",
    "#was a more acceptable 43.7%, so it was decided to will the null values with the foreign_gross median. I did this by finding the median using the \n",
    "#original 'gross' dataset (it just made sense at the time and I got the info I needed, so didn't bother going back to do it the 'proper' way)\n",
    "bnr_2['foreign_gross'].isna().sum() /  (bnr_2['foreign_gross'].count()+bnr_2['foreign_gross'].isna().sum())"
   ]
  },
  {
   "cell_type": "code",
   "execution_count": 11,
   "metadata": {},
   "outputs": [],
   "source": [
    "gross.dropna(subset=['foreign_gross'], inplace=True)\n",
    "gross['foreign_gross'] = gross['foreign_gross'].map(lambda x: x.replace(',',\"\"))"
   ]
  },
  {
   "cell_type": "code",
   "execution_count": 12,
   "metadata": {},
   "outputs": [
    {
     "data": {
      "text/html": [
       "<div>\n",
       "<style scoped>\n",
       "    .dataframe tbody tr th:only-of-type {\n",
       "        vertical-align: middle;\n",
       "    }\n",
       "\n",
       "    .dataframe tbody tr th {\n",
       "        vertical-align: top;\n",
       "    }\n",
       "\n",
       "    .dataframe thead th {\n",
       "        text-align: right;\n",
       "    }\n",
       "</style>\n",
       "<table border=\"1\" class=\"dataframe\">\n",
       "  <thead>\n",
       "    <tr style=\"text-align: right;\">\n",
       "      <th></th>\n",
       "      <th>title</th>\n",
       "      <th>studio</th>\n",
       "      <th>domestic_gross</th>\n",
       "      <th>foreign_gross</th>\n",
       "      <th>year</th>\n",
       "    </tr>\n",
       "  </thead>\n",
       "  <tbody>\n",
       "    <tr>\n",
       "      <th>1872</th>\n",
       "      <td>Star Wars: The Force Awakens</td>\n",
       "      <td>BV</td>\n",
       "      <td>936700000.0</td>\n",
       "      <td>1131.6</td>\n",
       "      <td>2015</td>\n",
       "    </tr>\n",
       "    <tr>\n",
       "      <th>1873</th>\n",
       "      <td>Jurassic World</td>\n",
       "      <td>Uni.</td>\n",
       "      <td>652300000.0</td>\n",
       "      <td>1019.4</td>\n",
       "      <td>2015</td>\n",
       "    </tr>\n",
       "    <tr>\n",
       "      <th>1874</th>\n",
       "      <td>Furious 7</td>\n",
       "      <td>Uni.</td>\n",
       "      <td>353000000.0</td>\n",
       "      <td>1163.0</td>\n",
       "      <td>2015</td>\n",
       "    </tr>\n",
       "  </tbody>\n",
       "</table>\n",
       "</div>"
      ],
      "text/plain": [
       "                             title studio  domestic_gross foreign_gross  year\n",
       "1872  Star Wars: The Force Awakens     BV     936700000.0        1131.6  2015\n",
       "1873                Jurassic World   Uni.     652300000.0        1019.4  2015\n",
       "1874                     Furious 7   Uni.     353000000.0        1163.0  2015"
      ]
     },
     "execution_count": 12,
     "metadata": {},
     "output_type": "execute_result"
    }
   ],
   "source": [
    "gross.iloc[1300:1303]"
   ]
  },
  {
   "cell_type": "code",
   "execution_count": 32,
   "metadata": {},
   "outputs": [
    {
     "data": {
      "text/html": [
       "<div>\n",
       "<style scoped>\n",
       "    .dataframe tbody tr th:only-of-type {\n",
       "        vertical-align: middle;\n",
       "    }\n",
       "\n",
       "    .dataframe tbody tr th {\n",
       "        vertical-align: top;\n",
       "    }\n",
       "\n",
       "    .dataframe thead th {\n",
       "        text-align: right;\n",
       "    }\n",
       "</style>\n",
       "<table border=\"1\" class=\"dataframe\">\n",
       "  <thead>\n",
       "    <tr style=\"text-align: right;\">\n",
       "      <th></th>\n",
       "      <th>title</th>\n",
       "      <th>studio</th>\n",
       "      <th>domestic_gross</th>\n",
       "      <th>foreign_gross</th>\n",
       "      <th>year</th>\n",
       "    </tr>\n",
       "  </thead>\n",
       "  <tbody>\n",
       "    <tr>\n",
       "      <th>1872</th>\n",
       "      <td>Star Wars: The Force Awakens</td>\n",
       "      <td>BV</td>\n",
       "      <td>936700000.0</td>\n",
       "      <td>1.131561e+09</td>\n",
       "      <td>2015</td>\n",
       "    </tr>\n",
       "    <tr>\n",
       "      <th>1873</th>\n",
       "      <td>Jurassic World</td>\n",
       "      <td>Uni.</td>\n",
       "      <td>652300000.0</td>\n",
       "      <td>1.018130e+09</td>\n",
       "      <td>2015</td>\n",
       "    </tr>\n",
       "    <tr>\n",
       "      <th>1874</th>\n",
       "      <td>Furious 7</td>\n",
       "      <td>Uni.</td>\n",
       "      <td>353000000.0</td>\n",
       "      <td>1.162041e+09</td>\n",
       "      <td>2015</td>\n",
       "    </tr>\n",
       "    <tr>\n",
       "      <th>1875</th>\n",
       "      <td>Avengers: Age of Ultron</td>\n",
       "      <td>BV</td>\n",
       "      <td>459000000.0</td>\n",
       "      <td>9.464000e+08</td>\n",
       "      <td>2015</td>\n",
       "    </tr>\n",
       "    <tr>\n",
       "      <th>1876</th>\n",
       "      <td>Minions</td>\n",
       "      <td>Uni.</td>\n",
       "      <td>336000000.0</td>\n",
       "      <td>8.234000e+08</td>\n",
       "      <td>2015</td>\n",
       "    </tr>\n",
       "  </tbody>\n",
       "</table>\n",
       "</div>"
      ],
      "text/plain": [
       "                             title studio  domestic_gross  foreign_gross  year\n",
       "1872  Star Wars: The Force Awakens     BV     936700000.0   1.131561e+09  2015\n",
       "1873                Jurassic World   Uni.     652300000.0   1.018130e+09  2015\n",
       "1874                     Furious 7   Uni.     353000000.0   1.162041e+09  2015\n",
       "1875       Avengers: Age of Ultron     BV     459000000.0   9.464000e+08  2015\n",
       "1876                       Minions   Uni.     336000000.0   8.234000e+08  2015"
      ]
     },
     "execution_count": 32,
     "metadata": {},
     "output_type": "execute_result"
    }
   ],
   "source": [
    "#Atfer removing the commas, the values can be converted to floats. However, it's clear these numbers are not correctly formatted. \n",
    "#Because there is only three, I manually replaced the values with the true foreign gross. \n",
    "\n",
    "gross['foreign_gross']= gross['foreign_gross'].replace([1131.6],1131561399)\n",
    "gross['foreign_gross']= gross['foreign_gross'].replace([1019.4],1018130012)\n",
    "gross['foreign_gross']= gross['foreign_gross'].replace([1163.0],1162040651)\n",
    "gross.iloc[1300:1305]"
   ]
  },
  {
   "cell_type": "code",
   "execution_count": 33,
   "metadata": {},
   "outputs": [
    {
     "data": {
      "text/plain": [
       "0.0"
      ]
     },
     "execution_count": 33,
     "metadata": {},
     "output_type": "execute_result"
    }
   ],
   "source": []
  },
  {
   "cell_type": "code",
   "execution_count": 15,
   "metadata": {},
   "outputs": [],
   "source": [
    "gross['foreign_gross']= gross['foreign_gross'].astype('float')\n",
    "f_gross_median = gross['foreign_gross'].median()\n",
    "bnr_2['foreign_gross'] = bnr_2['foreign_gross'].fillna(f_gross_median)"
   ]
  },
  {
   "cell_type": "code",
   "execution_count": null,
   "metadata": {},
   "outputs": [],
   "source": []
  },
  {
   "cell_type": "code",
   "execution_count": 16,
   "metadata": {},
   "outputs": [],
   "source": [
    "#The bnr_2 data set also had ',' values, these I replaced by moving the decimal point. "
   ]
  },
  {
   "cell_type": "code",
   "execution_count": 17,
   "metadata": {},
   "outputs": [],
   "source": [
    "bnr_2['foreign_gross']= bnr_2['foreign_gross'].replace(['1,131.6'],1131561399)\n",
    "bnr_2['foreign_gross']= bnr_2['foreign_gross'].replace(['1,019.4'],1018130012)\n",
    "bnr_2['foreign_gross']= bnr_2['foreign_gross'].replace(['1,163.0'],1162040651)\n",
    "bnr_2['foreign_gross']= bnr_2['foreign_gross'].replace(['1,369.5'],1369500000)\n",
    "bnr_2['foreign_gross']= bnr_2['foreign_gross'].replace(['1,010.0'],1010000000)"
   ]
  },
  {
   "cell_type": "code",
   "execution_count": 39,
   "metadata": {},
   "outputs": [
    {
     "name": "stdout",
     "output_type": "stream",
     "text": [
      "<class 'pandas.core.frame.DataFrame'>\n",
      "Int64Index: 1460 entries, 18 to 77239\n",
      "Data columns (total 14 columns):\n",
      " #   Column           Non-Null Count  Dtype         \n",
      "---  ------           --------------  -----         \n",
      " 0   title            1460 non-null   object        \n",
      " 1   original_title   1460 non-null   object        \n",
      " 2   start_year       1460 non-null   int64         \n",
      " 3   runtime_minutes  1374 non-null   float64       \n",
      " 4   genres           1460 non-null   object        \n",
      " 5   start_year_real  1460 non-null   datetime64[ns]\n",
      " 6   averagerating    1248 non-null   float64       \n",
      " 7   numvotes         1248 non-null   float64       \n",
      " 8   studio           1460 non-null   object        \n",
      " 9   domestic_gross   1460 non-null   float64       \n",
      " 10  foreign_gross    1460 non-null   float64       \n",
      " 11  year             1460 non-null   float64       \n",
      " 12  genreslist       1460 non-null   object        \n",
      " 13  total_gross      1460 non-null   float64       \n",
      "dtypes: datetime64[ns](1), float64(7), int64(1), object(5)\n",
      "memory usage: 171.1+ KB\n"
     ]
    }
   ],
   "source": [
    "bnr_2['foreign_gross'] = bnr_2['foreign_gross'].astype('float')\n",
    "bnr_2['total_gross'] = bnr_2['domestic_gross'] + bnr_2['foreign_gross']\n",
    "#The domestic and foreign gross columns now both flost values with no null values, so analysis can begin. \n",
    "bnr_2.info()"
   ]
  },
  {
   "cell_type": "markdown",
   "metadata": {},
   "source": [
    "## Data Modeling\n",
    "Describe and justify the process for analyzing or modeling the data.\n",
    "\n",
    "***\n",
    "Questions to consider:\n",
    "* How did you analyze or model the data?\n",
    "* How did you iterate on your initial approach to make it better?\n",
    "* Why are these choices appropriate given the data and the business problem?\n",
    "***"
   ]
  },
  {
   "cell_type": "code",
   "execution_count": 19,
   "metadata": {},
   "outputs": [],
   "source": [
    "#26 records had no genre, so it is easiest to remove this small number of records with missing info. \n",
    "bnr_2= bnr_2.dropna(subset=['genres'])"
   ]
  },
  {
   "cell_type": "code",
   "execution_count": 20,
   "metadata": {},
   "outputs": [
    {
     "data": {
      "text/plain": [
       "'18             Action,Crime,Drama\\n29        Action,Adventure,Sci-Fi\\n30                    Crime,Drama\\n32        Biography,Drama,History\\n43       Action,Adventure,Fantasy\\n                   ...           \\n76661                       Drama\\n76726                       Drama\\n76871                Action,Drama\\n76901                       Crime\\n77239                 Documentary\\nName: genres, Length: 1460, dtype: object'"
      ]
     },
     "execution_count": 20,
     "metadata": {},
     "output_type": "execute_result"
    }
   ],
   "source": [
    "#genres = bnr_2['genres']\n",
    "#str(genres)"
   ]
  },
  {
   "cell_type": "code",
   "execution_count": 21,
   "metadata": {
    "scrolled": true
   },
   "outputs": [],
   "source": [
    "#genres1 = bnr_2['genres'].map(lambda x: x.split(', '))"
   ]
  },
  {
   "cell_type": "code",
   "execution_count": 35,
   "metadata": {},
   "outputs": [],
   "source": [
    "bnr_2['genreslist'] = bnr_2['genres'].tolist()"
   ]
  },
  {
   "cell_type": "code",
   "execution_count": 36,
   "metadata": {},
   "outputs": [
    {
     "name": "stdout",
     "output_type": "stream",
     "text": [
      "18             [Action, Crime, Drama]\n",
      "29        [Action, Adventure, Sci-Fi]\n",
      "30                     [Crime, Drama]\n",
      "32        [Biography, Drama, History]\n",
      "43       [Action, Adventure, Fantasy]\n",
      "                     ...             \n",
      "76661                         [Drama]\n",
      "76726                         [Drama]\n",
      "76871                 [Action, Drama]\n",
      "76901                         [Crime]\n",
      "77239                   [Documentary]\n",
      "Name: genres, Length: 1460, dtype: object\n"
     ]
    }
   ],
   "source": [
    "print(bnr_2['genres'].map(lambda x: x.split(',')))"
   ]
  },
  {
   "cell_type": "markdown",
   "metadata": {},
   "source": [
    "## 1. Analysis by Ratings"
   ]
  },
  {
   "cell_type": "markdown",
   "metadata": {},
   "source": [
    "Ratings of the top and bottom 100 movies (by total gross) were examined. "
   ]
  },
  {
   "cell_type": "code",
   "execution_count": 121,
   "metadata": {},
   "outputs": [
    {
     "data": {
      "text/plain": [
       "100"
      ]
     },
     "execution_count": 121,
     "metadata": {},
     "output_type": "execute_result"
    }
   ],
   "source": [
    "by_gross = bnr_2.sort_values('total_gross', ascending=False)\n",
    "top_100 = by_gross['total_gross'][0:100]\n",
    "top_100 = list(top_100)\n",
    "\n",
    "len(top_100)"
   ]
  },
  {
   "cell_type": "code",
   "execution_count": 87,
   "metadata": {},
   "outputs": [
    {
     "data": {
      "text/plain": [
       "100"
      ]
     },
     "execution_count": 87,
     "metadata": {},
     "output_type": "execute_result"
    }
   ],
   "source": [
    "best_100 = by_gross['averagerating'][0:100]\n",
    "best_100 = list(best_100)\n",
    "\n",
    "len(best_100)"
   ]
  },
  {
   "cell_type": "code",
   "execution_count": 88,
   "metadata": {},
   "outputs": [],
   "source": [
    "bottom_gross = bnr_2.sort_values('total_gross')\n",
    "bottom_100 = bottom_gross['total_gross'][0:100]\n",
    "bottom_100 = list(bottom_100)"
   ]
  },
  {
   "cell_type": "code",
   "execution_count": 89,
   "metadata": {},
   "outputs": [
    {
     "data": {
      "text/plain": [
       "100"
      ]
     },
     "execution_count": 89,
     "metadata": {},
     "output_type": "execute_result"
    }
   ],
   "source": [
    "worst_100 = bottom_gross['averagerating'][0:100]\n",
    "worst_100 = list(worst_100)\n",
    "\n",
    "len(worst_100)"
   ]
  },
  {
   "cell_type": "code",
   "execution_count": 151,
   "metadata": {},
   "outputs": [
    {
     "data": {
      "text/html": [
       "<div>\n",
       "<style scoped>\n",
       "    .dataframe tbody tr th:only-of-type {\n",
       "        vertical-align: middle;\n",
       "    }\n",
       "\n",
       "    .dataframe tbody tr th {\n",
       "        vertical-align: top;\n",
       "    }\n",
       "\n",
       "    .dataframe thead th {\n",
       "        text-align: right;\n",
       "    }\n",
       "</style>\n",
       "<table border=\"1\" class=\"dataframe\">\n",
       "  <thead>\n",
       "    <tr style=\"text-align: right;\">\n",
       "      <th></th>\n",
       "      <th>Gross</th>\n",
       "      <th>AvgRatings</th>\n",
       "    </tr>\n",
       "  </thead>\n",
       "  <tbody>\n",
       "    <tr>\n",
       "      <th>Gross</th>\n",
       "      <td>1.000000</td>\n",
       "      <td>0.329525</td>\n",
       "    </tr>\n",
       "    <tr>\n",
       "      <th>AvgRatings</th>\n",
       "      <td>0.329525</td>\n",
       "      <td>1.000000</td>\n",
       "    </tr>\n",
       "  </tbody>\n",
       "</table>\n",
       "</div>"
      ],
      "text/plain": [
       "               Gross  AvgRatings\n",
       "Gross       1.000000    0.329525\n",
       "AvgRatings  0.329525    1.000000"
      ]
     },
     "execution_count": 151,
     "metadata": {},
     "output_type": "execute_result"
    }
   ],
   "source": [
    "tops = pd.DataFrame()\n",
    "tops['Gross'] = top_100\n",
    "tops['AvgRatings'] = best_100\n",
    "\n",
    "tops = tops.dropna()\n",
    "\n",
    "TopRatingsCor = tops.corr(method='pearson')\n",
    "TopRatingsCor"
   ]
  },
  {
   "cell_type": "code",
   "execution_count": 148,
   "metadata": {},
   "outputs": [
    {
     "data": {
      "text/html": [
       "<div>\n",
       "<style scoped>\n",
       "    .dataframe tbody tr th:only-of-type {\n",
       "        vertical-align: middle;\n",
       "    }\n",
       "\n",
       "    .dataframe tbody tr th {\n",
       "        vertical-align: top;\n",
       "    }\n",
       "\n",
       "    .dataframe thead th {\n",
       "        text-align: right;\n",
       "    }\n",
       "</style>\n",
       "<table border=\"1\" class=\"dataframe\">\n",
       "  <thead>\n",
       "    <tr style=\"text-align: right;\">\n",
       "      <th></th>\n",
       "      <th>gross</th>\n",
       "      <th>Avg_Rating</th>\n",
       "      <th>runtime</th>\n",
       "    </tr>\n",
       "  </thead>\n",
       "  <tbody>\n",
       "    <tr>\n",
       "      <th>gross</th>\n",
       "      <td>1.000000</td>\n",
       "      <td>0.135255</td>\n",
       "      <td>0.137843</td>\n",
       "    </tr>\n",
       "    <tr>\n",
       "      <th>Avg_Rating</th>\n",
       "      <td>0.135255</td>\n",
       "      <td>1.000000</td>\n",
       "      <td>0.198598</td>\n",
       "    </tr>\n",
       "    <tr>\n",
       "      <th>runtime</th>\n",
       "      <td>0.137843</td>\n",
       "      <td>0.198598</td>\n",
       "      <td>1.000000</td>\n",
       "    </tr>\n",
       "  </tbody>\n",
       "</table>\n",
       "</div>"
      ],
      "text/plain": [
       "               gross  Avg_Rating   runtime\n",
       "gross       1.000000    0.135255  0.137843\n",
       "Avg_Rating  0.135255    1.000000  0.198598\n",
       "runtime     0.137843    0.198598  1.000000"
      ]
     },
     "execution_count": 148,
     "metadata": {},
     "output_type": "execute_result"
    }
   ],
   "source": [
    "CorrelationDF = pd.DataFrame()\n",
    "CorrelationDF['gross'] = bnr_2['total_gross']\n",
    "CorrelationDF['Avg_Rating'] = bnr_2['averagerating']\n",
    "CorrelationDF['runtime'] = bnr_2['runtime_minutes']\n",
    "\n",
    "CorrelationDF\n",
    "correlation = CorrelationDF.corr(method='pearson')\n",
    "correlation"
   ]
  },
  {
   "cell_type": "code",
   "execution_count": 153,
   "metadata": {},
   "outputs": [
    {
     "data": {
      "image/png": "[encoded data removed]",
      "text/plain": [
       "<Figure size 792x288 with 2 Axes>"
      ]
     },
     "metadata": {
      "needs_background": "light"
     },
     "output_type": "display_data"
    }
   ],
   "source": [
    "# Rating Vs Gross scatter plot was created to visualise possible relationship could be seen. \n",
    "\n",
    "fig, (ax1, ax2) = plt.subplots(figsize=(11,4), ncols=2)\n",
    "\n",
    "ax1.scatter(x=top_100, y=best_100, color='purple', marker='h')\n",
    "ax1.set_xlabel('Total Gross ($ Bil)', fontsize=13)\n",
    "ax1.set_ylabel('Avg Rating',  fontsize=13)\n",
    "ax1.set_title('Top 100 Movies by Gross', fontsize=14)\n",
    "\n",
    "\n",
    "ax2.scatter(x=bottom_100, y=worst_100,color='darkcyan', marker='h')\n",
    "ax2.set_xlabel('Total Gross ($ Mil)', fontsize=13)\n",
    "ax2.set_ylabel('Avg Rating',  fontsize=13)\n",
    "ax2.set_title('Bottom 100 Movies by Gross', fontsize=14)\n",
    "\n",
    "fig.suptitle(\"Avg Ratings Vs Total Gross\", fontsize=24, x=0.51, y=1.1)\n",
    "\n",
    "plt.savefig('./images/RatingsGrossScatter.png', bbox_inches = \"tight\")\n"
   ]
  },
  {
   "cell_type": "markdown",
   "metadata": {},
   "source": [
    "## 2. Analysis by Runtime \n"
   ]
  },
  {
   "cell_type": "code",
   "execution_count": 93,
   "metadata": {},
   "outputs": [
    {
     "data": {
      "text/plain": [
       "'115.79 mins'"
      ]
     },
     "execution_count": 93,
     "metadata": {},
     "output_type": "execute_result"
    }
   ],
   "source": [
    "top_by_runtime = bnr_2.sort_values('total_gross', ascending=False)\n",
    "Time_top_100 = top_by_runtime['runtime_minutes'][0:100]\n",
    "Time_top_100 = list(Time_top_100)\n",
    "\n",
    "Top_Avg_Runtime = (str(sum(Time_top_100) / 100) + \" mins\")\n",
    "\n",
    "Top_Avg_Runtime"
   ]
  },
  {
   "cell_type": "code",
   "execution_count": 94,
   "metadata": {},
   "outputs": [],
   "source": [
    "TopRuntime = pd.DataFrame()\n",
    "TopRuntime['Gross'] = top_100\n",
    "TopRuntime['Runtime'] = Time_top_100 \n",
    "\n",
    "TopRuntime = TopRuntime.dropna()\n"
   ]
  },
  {
   "cell_type": "code",
   "execution_count": 95,
   "metadata": {},
   "outputs": [],
   "source": [
    "bottom_by_runtime = bnr_2.sort_values('total_gross')\n",
    "Time_bottom_100 = bottom_by_runtime['runtime_minutes'][0:100]\n",
    "Time_bottom_100 = list(Time_bottom_100)\n"
   ]
  },
  {
   "cell_type": "code",
   "execution_count": 137,
   "metadata": {},
   "outputs": [
    {
     "data": {
      "text/plain": [
       "97.62790697674419"
      ]
     },
     "execution_count": 137,
     "metadata": {},
     "output_type": "execute_result"
    }
   ],
   "source": [
    "BottomsRuntime = pd.DataFrame()\n",
    "BottomsRuntime['Gross'] = bottom_100\n",
    "BottomsRuntime['Runtime'] = Time_bottom_100 \n",
    "\n",
    "BottomsRuntime = BottomsRuntime.dropna()\n",
    "\n",
    "Avg_Bottom_Runtime = BottomsRuntime['Runtime'].mean()\n",
    "Avg_Bottom_Runtime"
   ]
  },
  {
   "cell_type": "code",
   "execution_count": 97,
   "metadata": {},
   "outputs": [
    {
     "ename": "TypeError",
     "evalue": "'DataFrame' object is not callable",
     "output_type": "error",
     "traceback": [
      "\u001b[1;31m---------------------------------------------------------------------------\u001b[0m",
      "\u001b[1;31mTypeError\u001b[0m                                 Traceback (most recent call last)",
      "Input \u001b[1;32mIn [97]\u001b[0m, in \u001b[0;36m<cell line: 2>\u001b[1;34m()\u001b[0m\n\u001b[0;32m      1\u001b[0m correlation \u001b[38;5;241m=\u001b[39m BottomsRuntime\u001b[38;5;241m.\u001b[39mcorr(method\u001b[38;5;241m=\u001b[39m\u001b[38;5;124m'\u001b[39m\u001b[38;5;124mpearson\u001b[39m\u001b[38;5;124m'\u001b[39m)\n\u001b[1;32m----> 2\u001b[0m \u001b[43mcorrelation\u001b[49m\u001b[43m(\u001b[49m\u001b[43m)\u001b[49m\n",
      "\u001b[1;31mTypeError\u001b[0m: 'DataFrame' object is not callable"
     ]
    }
   ],
   "source": [
    "correlation = BottomsRuntime.corr(method='pearson')\n",
    "correlation()"
   ]
  },
  {
   "cell_type": "code",
   "execution_count": null,
   "metadata": {},
   "outputs": [],
   "source": []
  },
  {
   "cell_type": "code",
   "execution_count": 155,
   "metadata": {},
   "outputs": [
    {
     "data": {
      "text/plain": [
       "Text(0.51, 1.1, 'Runtime Vs Gross')"
      ]
     },
     "execution_count": 155,
     "metadata": {},
     "output_type": "execute_result"
    },
    {
     "data": {
      "image/png": "[encoded data removed]",
      "text/plain": [
       "<Figure size 792x288 with 2 Axes>"
      ]
     },
     "metadata": {
      "needs_background": "light"
     },
     "output_type": "display_data"
    }
   ],
   "source": [
    "# Runtime Vs Gross\n",
    "fig, (ax3, ax4) = plt.subplots(figsize=(11,4), ncols=2)\n",
    "\n",
    "ax3.scatter(x=top_100, y=Time_top_100, color='purple', marker='h')\n",
    "ax3.set_title('Top 100 Movies by Gross', fontsize = 14)\n",
    "ax3.set_xlabel('Total Gross ($ Bil)', fontsize = 13)\n",
    "ax3.set_ylabel('Runtime (minutes)', fontsize = 12)\n",
    "\n",
    "\n",
    "ax4.scatter(x=bottom_100, y=Time_bottom_100,color='darkcyan', marker='h')\n",
    "ax4.set_title('Bottom 100 Movies by Gross', fontsize = 14)\n",
    "ax4.set_xlabel('Total Gross ($ Mil )', fontsize = 13)\n",
    "ax4.set_ylabel('Runtime (minutes)', fontsize = 12)\n",
    "\n",
    "plt.savefig('./images/RuntimeGrossScatter.png', bbox_inches = \"tight\")\n",
    "\n",
    "fig.suptitle(\"Runtime Vs Gross\", fontsize=24, x=0.51, y=1.1)\n"
   ]
  },
  {
   "cell_type": "markdown",
   "metadata": {},
   "source": [
    "## 3. Analysis by Genre \n"
   ]
  },
  {
   "cell_type": "code",
   "execution_count": 99,
   "metadata": {},
   "outputs": [],
   "source": [
    "bnr_by_gross = bnr_2.sort_values('total_gross', ascending=False)\n",
    "bnr_top100_by_gross = bnr_by_gross[0:100]\n"
   ]
  },
  {
   "cell_type": "code",
   "execution_count": 100,
   "metadata": {},
   "outputs": [
    {
     "data": {
      "text/plain": [
       "287"
      ]
     },
     "execution_count": 100,
     "metadata": {},
     "output_type": "execute_result"
    }
   ],
   "source": [
    "Top_genres = \"\"\n",
    "for x in bnr_top100_by_gross['genreslist']:\n",
    "    Top_genres += str(x) + \",\"\n",
    "Top_genres = Top_genres.split(',')\n",
    "\n",
    "len(Top_genres)"
   ]
  },
  {
   "cell_type": "code",
   "execution_count": 168,
   "metadata": {
    "scrolled": true
   },
   "outputs": [
    {
     "name": "stdout",
     "output_type": "stream",
     "text": [
      "[('Adventure', 69), ('Action', 58), ('Comedy', 35), ('Animation', 24), ('Sci-Fi', 20), ('Drama', 18), ('Fantasy', 15), ('Thriller', 13), ('Horror', 6), ('Documentary', 5), ('Family', 4), ('Romance', 4), ('Biography', 3), ('Mystery', 3), ('Crime', 2), ('Music', 2), ('History', 2), ('Musical', 2), ('Sport', 1), ('', 1)]\n"
     ]
    },
    {
     "data": {
      "text/plain": [
       "list"
      ]
     },
     "execution_count": 168,
     "metadata": {},
     "output_type": "execute_result"
    }
   ],
   "source": [
    "from collections import Counter\n",
    "top_counts_average = Counter(Top_genres).most_common()\n",
    "print(top_counts_average)\n",
    "type(top_counts_average)"
   ]
  },
  {
   "cell_type": "code",
   "execution_count": 102,
   "metadata": {},
   "outputs": [],
   "source": [
    "top_names = []\n",
    "for x in top_counts_average:\n",
    "    top_names.append(x[0])"
   ]
  },
  {
   "cell_type": "code",
   "execution_count": 103,
   "metadata": {},
   "outputs": [
    {
     "data": {
      "text/plain": [
       "[69, 58, 35, 24, 20, 18, 15, 13, 6, 5, 4, 4, 3, 3, 2, 2, 2, 2, 1, 1]"
      ]
     },
     "execution_count": 103,
     "metadata": {},
     "output_type": "execute_result"
    }
   ],
   "source": [
    "top_values = []\n",
    "for x in top_counts_average:\n",
    "    top_values.append(x[1])\n",
    "top_values"
   ]
  },
  {
   "cell_type": "code",
   "execution_count": 104,
   "metadata": {},
   "outputs": [
    {
     "data": {
      "text/plain": [
       "100"
      ]
     },
     "execution_count": 104,
     "metadata": {},
     "output_type": "execute_result"
    }
   ],
   "source": [
    "bnr_by_gross_bottom = bnr_2.sort_values('total_gross')\n",
    "bnr_bottom100_by_gross = bnr_by_gross_bottom[0:100]\n",
    "\n",
    "len(bnr_bottom100_by_gross)"
   ]
  },
  {
   "cell_type": "code",
   "execution_count": 105,
   "metadata": {},
   "outputs": [
    {
     "data": {
      "text/plain": [
       "200"
      ]
     },
     "execution_count": 105,
     "metadata": {},
     "output_type": "execute_result"
    }
   ],
   "source": [
    "bottom_genres = \"\"\n",
    "for x in bnr_bottom100_by_gross['genreslist']:\n",
    "    bottom_genres += str(x) + \",\"\n",
    "bottom_genres = bottom_genres.split(',')\n",
    "\n",
    "len(bottom_genres)"
   ]
  },
  {
   "cell_type": "code",
   "execution_count": 106,
   "metadata": {},
   "outputs": [
    {
     "data": {
      "text/plain": [
       "20"
      ]
     },
     "execution_count": 106,
     "metadata": {},
     "output_type": "execute_result"
    }
   ],
   "source": [
    "from collections import Counter\n",
    "bottom_counts_average = Counter(bottom_genres).most_common()\n",
    "bottom_counts_average = bottom_counts_average[0:20]\n",
    "len(bottom_counts_average)\n"
   ]
  },
  {
   "cell_type": "code",
   "execution_count": 107,
   "metadata": {},
   "outputs": [],
   "source": [
    "bottom_names = []\n",
    "for x in bottom_counts_average:\n",
    "    bottom_names.append(x[0])\n",
    "\n",
    "bottom_names = bottom_names[0:20]"
   ]
  },
  {
   "cell_type": "code",
   "execution_count": 108,
   "metadata": {},
   "outputs": [
    {
     "name": "stdout",
     "output_type": "stream",
     "text": [
      "['Drama', 'Documentary', 'Comedy', 'Thriller', 'Biography', 'Romance', 'Horror', 'Mystery', 'Music', 'Action', 'War', 'Family', 'Adventure', 'History', 'Crime', 'Fantasy', 'Animation', 'Sci-Fi', 'Sport', 'Western']\n",
      "[57, 22, 21, 14, 14, 12, 8, 8, 7, 6, 5, 5, 5, 4, 3, 3, 2, 1, 1, 1]\n"
     ]
    }
   ],
   "source": [
    "bottom_values = []\n",
    "for x in bottom_counts_average:\n",
    "    bottom_values.append(x[1])\n",
    "\n",
    "bottom_values = bottom_values[0:20]\n",
    "print(bottom_names)\n",
    "print(bottom_values)"
   ]
  },
  {
   "cell_type": "code",
   "execution_count": null,
   "metadata": {},
   "outputs": [],
   "source": []
  },
  {
   "cell_type": "code",
   "execution_count": 165,
   "metadata": {},
   "outputs": [
    {
     "data": {
      "image/png": "[encoded data removed]",
      "text/plain": [
       "<Figure size 1080x432 with 2 Axes>"
      ]
     },
     "metadata": {
      "needs_background": "light"
     },
     "output_type": "display_data"
    },
    {
     "data": {
      "text/plain": [
       "Text(0.5, 0.98, 'Common Genres for the Top & Bottom Movie Lists')"
      ]
     },
     "execution_count": 165,
     "metadata": {},
     "output_type": "execute_result"
    }
   ],
   "source": [
    "fig, (gt,gb) = plt.subplots(figsize=(15,6), ncols=2)\n",
    "\n",
    "gt.bar(range(len(top_counts_average)), top_values, color=('purple'), tick_label=top_names)\n",
    "plt.xticks(rotation = 90)\n",
    "gt.set_ylabel('Number of movies', fontsize=14)\n",
    "gt.set_xlabel('Genres')\n",
    "gt.set_title('Top 100 Movie - Genres', fontweight=\"bold\", fontsize =16)\n",
    "\n",
    "\n",
    "gb.bar(range(len(bottom_counts_average)), bottom_values,color=('darkcyan'), tick_label=bottom_names)\n",
    "plt.xticks(rotation=90)\n",
    "gb.set_ylabel('Number of movies', fontsize=14)\n",
    "gb.set_xlabel('Genres')\n",
    "gb.set_title('Bottom 100 Movie - Genres', fontweight=\"bold\",  fontsize =16)\n",
    "fig.tight_layout()\n",
    "plt.savefig('./images/Genres_Top_n_Bottom.png', bbox_inches = \"tight\")\n",
    "plt.show();\n",
    "\n",
    "fig.suptitle('Common Genres for the Top & Bottom Movie Lists', fontsize = '24')"
   ]
  },
  {
   "cell_type": "code",
   "execution_count": null,
   "metadata": {},
   "outputs": [],
   "source": []
  },
  {
   "cell_type": "code",
   "execution_count": 132,
   "metadata": {
    "scrolled": true
   },
   "outputs": [
    {
     "data": {
      "image/png": "[encoded data removed]",
      "text/plain": [
       "<Figure size 504x504 with 1 Axes>"
      ]
     },
     "metadata": {
      "needs_background": "light"
     },
     "output_type": "display_data"
    }
   ],
   "source": [
    "fig, gt = plt.subplots(figsize=(7.,7))\n",
    "barlist=plt.bar(range(len(top_counts_average)), top_values, color=('purple'), tick_label=top_names)\n",
    "plt.xticks(rotation=90)\n",
    "gt.set_ylabel('Number of movies for each genre')\n",
    "gt.set_xlabel('Genres')\n",
    "gt.set_title('Top 100 Movie Genres', fontweight=\"bold\")\n",
    "fig.tight_layout()\n",
    "plt.savefig('./images/top20_IMDB_genres.png', bbox_inches = \"tight\")\n",
    "plt.show();"
   ]
  },
  {
   "cell_type": "code",
   "execution_count": 80,
   "metadata": {
    "scrolled": true
   },
   "outputs": [
    {
     "data": {
      "image/png": "[encoded data removed]",
      "text/plain": [
       "<Figure size 432x288 with 1 Axes>"
      ]
     },
     "metadata": {
      "needs_background": "light"
     },
     "output_type": "display_data"
    }
   ],
   "source": [
    "fig, gb = plt.subplots()\n",
    "bottom_genres_bar=plt.bar(range(len(bottom_counts_average)), bottom_values, tick_label=bottom_names)\n",
    "plt.xticks(rotation=90)\n",
    "gb.set_ylabel('# of movies for each genre')\n",
    "gb.set_xlabel('Genres')\n",
    "gb.set_title('Bottom 100 Movie Genres', fontweight=\"bold\")\n",
    "fig.tight_layout()\n",
    "plt.savefig('./images/top20_IMDB_genres.png', bbox_inches = \"tight\")\n",
    "plt.show();"
   ]
  },
  {
   "cell_type": "code",
   "execution_count": 167,
   "metadata": {},
   "outputs": [
    {
     "data": {
      "text/plain": [
       "101"
      ]
     },
     "execution_count": 167,
     "metadata": {},
     "output_type": "execute_result"
    }
   ],
   "source": [
    "Top_studios = \"\"\n",
    "for x in bnr_top100_by_gross['studio']:\n",
    "    Top_studios += str(x) + \",\"\n",
    "Top_studios = Top_studios.split(',')\n",
    "\n",
    "len(Top_studios)"
   ]
  },
  {
   "cell_type": "code",
   "execution_count": 169,
   "metadata": {},
   "outputs": [
    {
     "name": "stdout",
     "output_type": "stream",
     "text": [
      "[('BV', 24), ('Uni.', 20), ('Fox', 15), ('WB', 14), ('Par.', 8), ('Sony', 7), ('WB (NL)', 4), ('LGF', 2), ('LG/S', 2), ('HC', 1), ('WGUSA', 1), ('FR', 1), ('FUN', 1), ('', 1)]\n"
     ]
    },
    {
     "data": {
      "text/plain": [
       "list"
      ]
     },
     "execution_count": 169,
     "metadata": {},
     "output_type": "execute_result"
    }
   ],
   "source": [
    "from collections import Counter\n",
    "topS_counts_average = Counter(Top_studios).most_common()\n",
    "print(topS_counts_average)\n",
    "type(topS_counts_average)"
   ]
  },
  {
   "cell_type": "code",
   "execution_count": 174,
   "metadata": {},
   "outputs": [
    {
     "data": {
      "text/plain": [
       "14"
      ]
     },
     "execution_count": 174,
     "metadata": {},
     "output_type": "execute_result"
    }
   ],
   "source": [
    "topS_names = []\n",
    "for x in topS_counts_average:\n",
    "    topS_names.append(x[0])\n",
    "len(topS_names)"
   ]
  },
  {
   "cell_type": "code",
   "execution_count": 173,
   "metadata": {},
   "outputs": [
    {
     "data": {
      "text/plain": [
       "14"
      ]
     },
     "execution_count": 173,
     "metadata": {},
     "output_type": "execute_result"
    }
   ],
   "source": [
    "topS_values = []\n",
    "for x in topS_counts_average:\n",
    "    topS_values.append(x[1])\n",
    "len(topS_values)"
   ]
  },
  {
   "cell_type": "code",
   "execution_count": 193,
   "metadata": {},
   "outputs": [
    {
     "data": {
      "text/plain": [
       "101"
      ]
     },
     "execution_count": 193,
     "metadata": {},
     "output_type": "execute_result"
    }
   ],
   "source": [
    "Bottom_studios = \"\"\n",
    "for x in bnr_bottom100_by_gross['studio']:\n",
    "    Bottom_studios += str(x) + \",\"\n",
    "Bottom_studios = Bottom_studios.split(',')\n",
    "\n",
    "len(Bottom_studios)"
   ]
  },
  {
   "cell_type": "code",
   "execution_count": 194,
   "metadata": {},
   "outputs": [
    {
     "name": "stdout",
     "output_type": "stream",
     "text": [
      "[('RAtt.', 12), ('IFC', 9), ('CGld', 5), ('MBox', 5), ('Strand', 4), ('Magn.', 4), ('FIP', 4), ('UTV', 3), ('DR', 3), ('A24', 3), ('Uni.', 3), ('SPC', 3), ('FM', 2), ('Wein.', 2), ('Osci.', 2), ('FoxS', 2), ('LGF', 2), ('Sony', 2), ('Hann.', 2), ('MNE', 2), ('Cohen', 2), ('ParV', 2), ('AF', 2), ('FRun', 1), ('NYer', 1), ('Grindstone', 1), ('NAV', 1), ('Mira.', 1), ('KL', 1), ('Vita.', 1), ('BG', 1), ('MOM', 1), ('Orch.', 1), ('FR', 1), ('Zee', 1), ('Zeit.', 1), ('VE', 1), ('STX', 1), ('Aviron', 1), ('Annapurna', 1), ('Fox', 1), ('Scre.', 1), ('WGUSA', 1), ('', 1)]\n"
     ]
    },
    {
     "data": {
      "text/plain": [
       "list"
      ]
     },
     "execution_count": 194,
     "metadata": {},
     "output_type": "execute_result"
    }
   ],
   "source": [
    "from collections import Counter\n",
    "bottomS_counts_average = Counter(Bottom_studios).most_common()\n",
    "print(bottomS_counts_average)\n",
    "type(bottomS_counts_average)"
   ]
  },
  {
   "cell_type": "code",
   "execution_count": 195,
   "metadata": {},
   "outputs": [
    {
     "data": {
      "text/plain": [
       "44"
      ]
     },
     "execution_count": 195,
     "metadata": {},
     "output_type": "execute_result"
    }
   ],
   "source": [
    "bottomS_names = []\n",
    "for x in bottomS_counts_average:\n",
    "    bottomS_names.append(x[0])\n",
    "len(bottomS_names)"
   ]
  },
  {
   "cell_type": "code",
   "execution_count": 196,
   "metadata": {},
   "outputs": [
    {
     "data": {
      "text/plain": [
       "44"
      ]
     },
     "execution_count": 196,
     "metadata": {},
     "output_type": "execute_result"
    }
   ],
   "source": [
    "bottomS_values = []\n",
    "for x in bottomS_counts_average:\n",
    "    bottomS_values.append(x[1])\n",
    "len(bottomS_values)"
   ]
  },
  {
   "cell_type": "code",
   "execution_count": null,
   "metadata": {},
   "outputs": [],
   "source": []
  },
  {
   "cell_type": "code",
   "execution_count": 199,
   "metadata": {},
   "outputs": [
    {
     "data": {
      "image/png": "[encoded data removed]",
      "text/plain": [
       "<Figure size 432x288 with 1 Axes>"
      ]
     },
     "metadata": {
      "needs_background": "light"
     },
     "output_type": "display_data"
    }
   ],
   "source": [
    "Top = plt.bar(range(len(topS_counts_average)), topS_values, color=('purple'), tick_label=topS_names)\n",
    "plt.xticks(rotation=90)\n",
    "ts.set_ylabel('Number of movies')\n",
    "ts.set_xlabel('Studio Name')\n",
    "ts.set_title('Top 100 Movie - Studio', fontweight=\"bold\", fontsize = 15)\n",
    "fig.tight_layout()"
   ]
  },
  {
   "cell_type": "code",
   "execution_count": 203,
   "metadata": {},
   "outputs": [
    {
     "data": {
      "text/plain": [
       "Text(0.5, 1.0, 'Bottom 100 Movie - Studio')"
      ]
     },
     "execution_count": 203,
     "metadata": {},
     "output_type": "execute_result"
    },
    {
     "data": {
      "image/png": "[encoded data removed]",
      "text/plain": [
       "<Figure size 1080x432 with 1 Axes>"
      ]
     },
     "metadata": {
      "needs_background": "light"
     },
     "output_type": "display_data"
    }
   ],
   "source": [
    "fig, bs = plt.subplots(figsize=(15,6), ncols=1)\n",
    "bottom =plt.bar(range(len(bottomS_counts_average)), bottomS_values, color=('darkcyan'), tick_label=bottomS_names)\n",
    "plt.xticks(rotation=90)\n",
    "bs.set_ylabel('Number of movies')\n",
    "bs.set_xlabel('Studio Name')\n",
    "bs.set_title('Bottom 100 Movie - Studio', fontweight=\"bold\", fontsize = 15)\n"
   ]
  },
  {
   "cell_type": "markdown",
   "metadata": {},
   "source": [
    "## Evaluation\n",
    "Evaluate how well your work solves the stated business problem.\n",
    "\n",
    "***\n",
    "Questions to consider:\n",
    "* How do you interpret the results?\n",
    "* How well does your model fit your data? How much better is this than your baseline model?\n",
    "* How confident are you that your results would generalize beyond the data you have?\n",
    "* How confident are you that this model would benefit the business if put into use?\n",
    "***"
   ]
  },
  {
   "cell_type": "code",
   "execution_count": null,
   "metadata": {},
   "outputs": [],
   "source": []
  },
  {
   "cell_type": "markdown",
   "metadata": {},
   "source": [
    "## Conclusions\n",
    "Provide your conclusions about the work you've done, including any limitations or next steps.\n",
    "\n",
    "***\n",
    "Questions to consider:\n",
    "* What would you recommend the business do as a result of this work?\n",
    "* What are some reasons why your analysis might not fully solve the business problem?\n",
    "* What else could you do in the future to improve this project?\n",
    "***"
   ]
  }
 ],
 "metadata": {
  "kernelspec": {
   "display_name": "Python 3 (ipykernel)",
   "language": "python",
   "name": "python3"
  },
  "language_info": {
   "codemirror_mode": {
    "name": "ipython",
    "version": 3
   },
   "file_extension": ".py",
   "mimetype": "text/x-python",
   "name": "python",
   "nbconvert_exporter": "python",
   "pygments_lexer": "ipython3",
   "version": "3.9.12"
  }
 },
 "nbformat": 4,
 "nbformat_minor": 4
}
