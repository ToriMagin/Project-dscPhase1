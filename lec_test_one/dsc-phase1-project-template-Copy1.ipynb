{
 "cells": [
  {
   "cell_type": "markdown",
   "metadata": {},
   "source": [
    "![example](images/director_shot.jpeg)\n",
    "\n"
   ]
  },
  {
   "cell_type": "markdown",
   "metadata": {},
   "source": [
    "## ****COPY   COPY  COPY  ****   4.51PM, SAT\n",
    "\n",
    "Tori Magin "
   ]
  },
  {
   "cell_type": "markdown",
   "metadata": {},
   "source": [
    "## Overview\n",
    "\n",
    "A one-paragraph overview of the project, including the business problem, data, methods, results and recommendations."
   ]
  },
  {
   "cell_type": "markdown",
   "metadata": {},
   "source": [
    "## Business Problem\n",
    "\n",
    "Summary of the business problem you are trying to solve, and the data questions that you plan to answer to solve them.\n",
    "\n",
    "***\n",
    "Questions to consider:\n",
    "* What are the business's pain points related to this project?\n",
    "* How did you pick the data analysis question(s) that you did?\n",
    "* Why are these questions important from a business perspective?\n",
    "***"
   ]
  },
  {
   "cell_type": "markdown",
   "metadata": {},
   "source": [
    "## Data Understanding\n",
    "\n",
    "Describe the data being used for this project.\n",
    "***\n",
    "Questions to consider:\n",
    "* Where did the data come from, and how do they relate to the data analysis questions?\n",
    "* What do the data represent? Who is in the sample and what variables are included?\n",
    "* What is the target variable?\n",
    "* What are the properties of the variables you intend to use?\n",
    "***"
   ]
  },
  {
   "cell_type": "code",
   "execution_count": 1,
   "metadata": {},
   "outputs": [],
   "source": [
    "# Import standard packages\n",
    "import pandas as pd\n",
    "import numpy as np\n",
    "import matplotlib.pyplot as plt\n",
    "import seaborn as sns\n",
    "\n",
    "%matplotlib inline"
   ]
  },
  {
   "cell_type": "code",
   "execution_count": 2,
   "metadata": {},
   "outputs": [],
   "source": [
    "basics = pd.read_csv(\"data/zippedData/imdb.title.basics.csv.gz\")\n",
    "gross = pd.read_csv(\"data/zippedData/bom.movie_gross.csv.gz\")\n",
    "ratings = pd.read_csv(\"data/zippedData/imdb.title.ratings.csv.gz\")"
   ]
  },
  {
   "cell_type": "markdown",
   "metadata": {},
   "source": [
    "## Data Preparation\n",
    "\n",
    "Describe and justify the process for preparing the data for analysis.\n",
    "\n",
    "***\n",
    "Questions to consider:\n",
    "* Were there variables you dropped or created?\n",
    "* How did you address missing values or outliers?\n",
    "* Why are these choices appropriate given the data and the business problem?\n",
    "***"
   ]
  },
  {
   "cell_type": "code",
   "execution_count": 3,
   "metadata": {},
   "outputs": [],
   "source": [
    "basics['start_year_real']=pd.to_datetime(basics['start_year'], format='%Y')\n",
    "recent_basics = basics.drop(basics[basics['start_year'] < 2015].index)"
   ]
  },
  {
   "cell_type": "code",
   "execution_count": 4,
   "metadata": {},
   "outputs": [],
   "source": [
    "recent_basics = recent_basics.drop(recent_basics[recent_basics['start_year'] > 2022].index)"
   ]
  },
  {
   "cell_type": "code",
   "execution_count": 5,
   "metadata": {},
   "outputs": [],
   "source": [
    "recent_basics = recent_basics.set_index('tconst')\n",
    "ratings = ratings.set_index('tconst')"
   ]
  },
  {
   "cell_type": "code",
   "execution_count": 6,
   "metadata": {},
   "outputs": [],
   "source": [
    "bnr = pd.merge(recent_basics,ratings, on=['tconst'],how='left') "
   ]
  },
  {
   "cell_type": "code",
   "execution_count": 7,
   "metadata": {
    "scrolled": true
   },
   "outputs": [],
   "source": [
    "bnr.rename(columns = {'primary_title':'title'}, inplace = True)"
   ]
  },
  {
   "cell_type": "code",
   "execution_count": 8,
   "metadata": {},
   "outputs": [
    {
     "data": {
      "text/html": [
       "<div>\n",
       "<style scoped>\n",
       "    .dataframe tbody tr th:only-of-type {\n",
       "        vertical-align: middle;\n",
       "    }\n",
       "\n",
       "    .dataframe tbody tr th {\n",
       "        vertical-align: top;\n",
       "    }\n",
       "\n",
       "    .dataframe thead th {\n",
       "        text-align: right;\n",
       "    }\n",
       "</style>\n",
       "<table border=\"1\" class=\"dataframe\">\n",
       "  <thead>\n",
       "    <tr style=\"text-align: right;\">\n",
       "      <th></th>\n",
       "      <th>tconst</th>\n",
       "      <th>primary_title</th>\n",
       "      <th>original_title</th>\n",
       "      <th>start_year</th>\n",
       "      <th>runtime_minutes</th>\n",
       "      <th>genres</th>\n",
       "      <th>start_year_real</th>\n",
       "    </tr>\n",
       "  </thead>\n",
       "  <tbody>\n",
       "    <tr>\n",
       "      <th>89506</th>\n",
       "      <td>tt5174640</td>\n",
       "      <td>100 Years</td>\n",
       "      <td>100 Years</td>\n",
       "      <td>2115</td>\n",
       "      <td>NaN</td>\n",
       "      <td>Drama</td>\n",
       "      <td>2115-01-01</td>\n",
       "    </tr>\n",
       "    <tr>\n",
       "      <th>96592</th>\n",
       "      <td>tt5637536</td>\n",
       "      <td>Avatar 5</td>\n",
       "      <td>Avatar 5</td>\n",
       "      <td>2027</td>\n",
       "      <td>NaN</td>\n",
       "      <td>Action,Adventure,Fantasy</td>\n",
       "      <td>2027-01-01</td>\n",
       "    </tr>\n",
       "    <tr>\n",
       "      <th>2949</th>\n",
       "      <td>tt10300398</td>\n",
       "      <td>Untitled Star Wars Film</td>\n",
       "      <td>Untitled Star Wars Film</td>\n",
       "      <td>2026</td>\n",
       "      <td>NaN</td>\n",
       "      <td>Fantasy</td>\n",
       "      <td>2026-01-01</td>\n",
       "    </tr>\n",
       "    <tr>\n",
       "      <th>52213</th>\n",
       "      <td>tt3095356</td>\n",
       "      <td>Avatar 4</td>\n",
       "      <td>Avatar 4</td>\n",
       "      <td>2025</td>\n",
       "      <td>NaN</td>\n",
       "      <td>Action,Adventure,Fantasy</td>\n",
       "      <td>2025-01-01</td>\n",
       "    </tr>\n",
       "    <tr>\n",
       "      <th>105187</th>\n",
       "      <td>tt6149054</td>\n",
       "      <td>Fantastic Beasts and Where to Find Them 5</td>\n",
       "      <td>Fantastic Beasts and Where to Find Them 5</td>\n",
       "      <td>2024</td>\n",
       "      <td>NaN</td>\n",
       "      <td>Adventure,Family,Fantasy</td>\n",
       "      <td>2024-01-01</td>\n",
       "    </tr>\n",
       "    <tr>\n",
       "      <th>...</th>\n",
       "      <td>...</td>\n",
       "      <td>...</td>\n",
       "      <td>...</td>\n",
       "      <td>...</td>\n",
       "      <td>...</td>\n",
       "      <td>...</td>\n",
       "      <td>...</td>\n",
       "    </tr>\n",
       "    <tr>\n",
       "      <th>74712</th>\n",
       "      <td>tt4264626</td>\n",
       "      <td>Civil War Life: Shot to Pieces</td>\n",
       "      <td>Civil War Life: Shot to Pieces</td>\n",
       "      <td>2010</td>\n",
       "      <td>79.0</td>\n",
       "      <td>Documentary</td>\n",
       "      <td>2010-01-01</td>\n",
       "    </tr>\n",
       "    <tr>\n",
       "      <th>14471</th>\n",
       "      <td>tt1716746</td>\n",
       "      <td>Heinrich Kieber - Datendieb</td>\n",
       "      <td>Heinrich Kieber - Datendieb</td>\n",
       "      <td>2010</td>\n",
       "      <td>52.0</td>\n",
       "      <td>Documentary</td>\n",
       "      <td>2010-01-01</td>\n",
       "    </tr>\n",
       "    <tr>\n",
       "      <th>74692</th>\n",
       "      <td>tt4263706</td>\n",
       "      <td>Mushrooms of America</td>\n",
       "      <td>Mushrooms of America</td>\n",
       "      <td>2010</td>\n",
       "      <td>46.0</td>\n",
       "      <td>Adventure,Comedy,Documentary</td>\n",
       "      <td>2010-01-01</td>\n",
       "    </tr>\n",
       "    <tr>\n",
       "      <th>118065</th>\n",
       "      <td>tt7059624</td>\n",
       "      <td>Zamana</td>\n",
       "      <td>Zamana</td>\n",
       "      <td>2010</td>\n",
       "      <td>140.0</td>\n",
       "      <td>Drama</td>\n",
       "      <td>2010-01-01</td>\n",
       "    </tr>\n",
       "    <tr>\n",
       "      <th>94000</th>\n",
       "      <td>tt5475580</td>\n",
       "      <td>A Boy and A Girl</td>\n",
       "      <td>A Boy and A Girl</td>\n",
       "      <td>2010</td>\n",
       "      <td>NaN</td>\n",
       "      <td>Romance</td>\n",
       "      <td>2010-01-01</td>\n",
       "    </tr>\n",
       "  </tbody>\n",
       "</table>\n",
       "<p>146144 rows × 7 columns</p>\n",
       "</div>"
      ],
      "text/plain": [
       "            tconst                              primary_title  \\\n",
       "89506    tt5174640                                  100 Years   \n",
       "96592    tt5637536                                   Avatar 5   \n",
       "2949    tt10300398                    Untitled Star Wars Film   \n",
       "52213    tt3095356                                   Avatar 4   \n",
       "105187   tt6149054  Fantastic Beasts and Where to Find Them 5   \n",
       "...            ...                                        ...   \n",
       "74712    tt4264626             Civil War Life: Shot to Pieces   \n",
       "14471    tt1716746                Heinrich Kieber - Datendieb   \n",
       "74692    tt4263706                       Mushrooms of America   \n",
       "118065   tt7059624                                     Zamana   \n",
       "94000    tt5475580                           A Boy and A Girl   \n",
       "\n",
       "                                   original_title  start_year  \\\n",
       "89506                                   100 Years        2115   \n",
       "96592                                    Avatar 5        2027   \n",
       "2949                      Untitled Star Wars Film        2026   \n",
       "52213                                    Avatar 4        2025   \n",
       "105187  Fantastic Beasts and Where to Find Them 5        2024   \n",
       "...                                           ...         ...   \n",
       "74712              Civil War Life: Shot to Pieces        2010   \n",
       "14471                 Heinrich Kieber - Datendieb        2010   \n",
       "74692                        Mushrooms of America        2010   \n",
       "118065                                     Zamana        2010   \n",
       "94000                            A Boy and A Girl        2010   \n",
       "\n",
       "        runtime_minutes                        genres start_year_real  \n",
       "89506               NaN                         Drama      2115-01-01  \n",
       "96592               NaN      Action,Adventure,Fantasy      2027-01-01  \n",
       "2949                NaN                       Fantasy      2026-01-01  \n",
       "52213               NaN      Action,Adventure,Fantasy      2025-01-01  \n",
       "105187              NaN      Adventure,Family,Fantasy      2024-01-01  \n",
       "...                 ...                           ...             ...  \n",
       "74712              79.0                   Documentary      2010-01-01  \n",
       "14471              52.0                   Documentary      2010-01-01  \n",
       "74692              46.0  Adventure,Comedy,Documentary      2010-01-01  \n",
       "118065            140.0                         Drama      2010-01-01  \n",
       "94000               NaN                       Romance      2010-01-01  \n",
       "\n",
       "[146144 rows x 7 columns]"
      ]
     },
     "execution_count": 8,
     "metadata": {},
     "output_type": "execute_result"
    }
   ],
   "source": [
    "#recent_basics_titles = recent_basics_titles.reset_index()\n",
    "#recent_basics_titles.rename(columns = {'primary_title':'title'}, inplace = True)\n",
    "gross.sort_values('year', ascending=False)\n",
    "basics.sort_values('start_year', ascending=False)"
   ]
  },
  {
   "cell_type": "code",
   "execution_count": 9,
   "metadata": {},
   "outputs": [],
   "source": [
    "gross = gross.set_index('title')\n",
    "#recent_basics_titles = recent_basics_titles.set_index('title')"
   ]
  },
  {
   "cell_type": "code",
   "execution_count": 10,
   "metadata": {},
   "outputs": [],
   "source": [
    "bnr.rename(columns = {'primary_title':'title'}, inplace = True)"
   ]
  },
  {
   "cell_type": "code",
   "execution_count": null,
   "metadata": {
    "scrolled": true
   },
   "outputs": [],
   "source": []
  },
  {
   "cell_type": "code",
   "execution_count": 13,
   "metadata": {},
   "outputs": [
    {
     "name": "stdout",
     "output_type": "stream",
     "text": [
      "<class 'pandas.core.frame.DataFrame'>\n",
      "Int64Index: 77300 entries, 0 to 77299\n",
      "Data columns (total 12 columns):\n",
      " #   Column           Non-Null Count  Dtype         \n",
      "---  ------           --------------  -----         \n",
      " 0   title            77300 non-null  object        \n",
      " 1   original_title   77281 non-null  object        \n",
      " 2   start_year       77300 non-null  int64         \n",
      " 3   runtime_minutes  57036 non-null  float64       \n",
      " 4   genres           74096 non-null  object        \n",
      " 5   start_year_real  77300 non-null  datetime64[ns]\n",
      " 6   averagerating    35635 non-null  float64       \n",
      " 7   numvotes         35635 non-null  float64       \n",
      " 8   studio           1491 non-null   object        \n",
      " 9   domestic_gross   1486 non-null   float64       \n",
      " 10  foreign_gross    842 non-null    object        \n",
      " 11  year             1492 non-null   float64       \n",
      "dtypes: datetime64[ns](1), float64(5), int64(1), object(5)\n",
      "memory usage: 7.7+ MB\n"
     ]
    }
   ],
   "source": [
    "#basics_gross = recent_basics_titles.join(gross, how='outer')\n",
    "bnr_2 = pd.merge(bnr,gross, on=['title'],how='left') \n",
    "bnr_2.info()\n"
   ]
  },
  {
   "cell_type": "code",
   "execution_count": null,
   "metadata": {},
   "outputs": [],
   "source": [
    "bnr_2.info()"
   ]
  },
  {
   "cell_type": "code",
   "execution_count": 14,
   "metadata": {},
   "outputs": [],
   "source": [
    "\n",
    "\n",
    "bnr_2.dropna(subset=['domestic_gross'], inplace=True)"
   ]
  },
  {
   "cell_type": "code",
   "execution_count": 15,
   "metadata": {},
   "outputs": [
    {
     "name": "stdout",
     "output_type": "stream",
     "text": [
      "<class 'pandas.core.frame.DataFrame'>\n",
      "Index: 2037 entries, Toy Story 3 to Antonio Lopez 1970: Sex Fashion & Disco\n",
      "Data columns (total 4 columns):\n",
      " #   Column          Non-Null Count  Dtype  \n",
      "---  ------          --------------  -----  \n",
      " 0   studio          2033 non-null   object \n",
      " 1   domestic_gross  2009 non-null   float64\n",
      " 2   foreign_gross   2037 non-null   object \n",
      " 3   year            2037 non-null   int64  \n",
      "dtypes: float64(1), int64(1), object(2)\n",
      "memory usage: 79.6+ KB\n"
     ]
    }
   ],
   "source": [
    "gross.dropna(subset=['foreign_gross'], inplace=True)\n",
    "gross.info()"
   ]
  },
  {
   "cell_type": "code",
   "execution_count": null,
   "metadata": {},
   "outputs": [],
   "source": [
    "#gross['foreign_gross'] = pd.to_numeric(gross['foreign_gross'])"
   ]
  },
  {
   "cell_type": "code",
   "execution_count": 16,
   "metadata": {},
   "outputs": [],
   "source": [
    "gross['foreign_gross'] = gross['foreign_gross'].map(lambda x: x.replace(',',\"\"))"
   ]
  },
  {
   "cell_type": "code",
   "execution_count": null,
   "metadata": {},
   "outputs": [],
   "source": [
    "gross.iloc[1300:1303]"
   ]
  },
  {
   "cell_type": "code",
   "execution_count": 17,
   "metadata": {},
   "outputs": [
    {
     "data": {
      "text/html": [
       "<div>\n",
       "<style scoped>\n",
       "    .dataframe tbody tr th:only-of-type {\n",
       "        vertical-align: middle;\n",
       "    }\n",
       "\n",
       "    .dataframe tbody tr th {\n",
       "        vertical-align: top;\n",
       "    }\n",
       "\n",
       "    .dataframe thead th {\n",
       "        text-align: right;\n",
       "    }\n",
       "</style>\n",
       "<table border=\"1\" class=\"dataframe\">\n",
       "  <thead>\n",
       "    <tr style=\"text-align: right;\">\n",
       "      <th></th>\n",
       "      <th>studio</th>\n",
       "      <th>domestic_gross</th>\n",
       "      <th>foreign_gross</th>\n",
       "      <th>year</th>\n",
       "    </tr>\n",
       "    <tr>\n",
       "      <th>title</th>\n",
       "      <th></th>\n",
       "      <th></th>\n",
       "      <th></th>\n",
       "      <th></th>\n",
       "    </tr>\n",
       "  </thead>\n",
       "  <tbody>\n",
       "    <tr>\n",
       "      <th>Star Wars: The Force Awakens</th>\n",
       "      <td>BV</td>\n",
       "      <td>936700000.0</td>\n",
       "      <td>1131.6</td>\n",
       "      <td>2015</td>\n",
       "    </tr>\n",
       "    <tr>\n",
       "      <th>Jurassic World</th>\n",
       "      <td>Uni.</td>\n",
       "      <td>652300000.0</td>\n",
       "      <td>1019.4</td>\n",
       "      <td>2015</td>\n",
       "    </tr>\n",
       "    <tr>\n",
       "      <th>Furious 7</th>\n",
       "      <td>Uni.</td>\n",
       "      <td>353000000.0</td>\n",
       "      <td>1163.0</td>\n",
       "      <td>2015</td>\n",
       "    </tr>\n",
       "    <tr>\n",
       "      <th>Avengers: Age of Ultron</th>\n",
       "      <td>BV</td>\n",
       "      <td>459000000.0</td>\n",
       "      <td>946400000</td>\n",
       "      <td>2015</td>\n",
       "    </tr>\n",
       "    <tr>\n",
       "      <th>Minions</th>\n",
       "      <td>Uni.</td>\n",
       "      <td>336000000.0</td>\n",
       "      <td>823400000</td>\n",
       "      <td>2015</td>\n",
       "    </tr>\n",
       "  </tbody>\n",
       "</table>\n",
       "</div>"
      ],
      "text/plain": [
       "                             studio  domestic_gross foreign_gross  year\n",
       "title                                                                  \n",
       "Star Wars: The Force Awakens     BV     936700000.0        1131.6  2015\n",
       "Jurassic World                 Uni.     652300000.0        1019.4  2015\n",
       "Furious 7                      Uni.     353000000.0        1163.0  2015\n",
       "Avengers: Age of Ultron          BV     459000000.0     946400000  2015\n",
       "Minions                        Uni.     336000000.0     823400000  2015"
      ]
     },
     "execution_count": 17,
     "metadata": {},
     "output_type": "execute_result"
    }
   ],
   "source": [
    "#Atfer removing the commas, the values can be converted to floats. However, it's clear these numbers are not correctly formatted. \n",
    "#Because there is only three and the difference is very large (potentially significant), I manually replaced the values with the true foreign gross. \n",
    "\n",
    "gross['foreign_gross']= gross['foreign_gross'].replace([1131.6],1131561399)\n",
    "gross['foreign_gross']= gross['foreign_gross'].replace([1019.4],1018130012)\n",
    "gross['foreign_gross']= gross['foreign_gross'].replace([1163.0],1162040651)\n",
    "gross.iloc[1300:1305]"
   ]
  },
  {
   "cell_type": "code",
   "execution_count": 18,
   "metadata": {},
   "outputs": [
    {
     "data": {
      "text/plain": [
       "0.43741588156123823"
      ]
     },
     "execution_count": 18,
     "metadata": {},
     "output_type": "execute_result"
    }
   ],
   "source": [
    "bnr_2['foreign_gross'].isna().sum() /  (bnr_2['foreign_gross'].count()+bnr_2['foreign_gross'].isna().sum())"
   ]
  },
  {
   "cell_type": "code",
   "execution_count": 20,
   "metadata": {},
   "outputs": [
    {
     "name": "stdout",
     "output_type": "stream",
     "text": [
      "<class 'pandas.core.frame.DataFrame'>\n",
      "Index: 2037 entries, Toy Story 3 to Antonio Lopez 1970: Sex Fashion & Disco\n",
      "Data columns (total 4 columns):\n",
      " #   Column          Non-Null Count  Dtype  \n",
      "---  ------          --------------  -----  \n",
      " 0   studio          2033 non-null   object \n",
      " 1   domestic_gross  2009 non-null   float64\n",
      " 2   foreign_gross   2037 non-null   float64\n",
      " 3   year            2037 non-null   int64  \n",
      "dtypes: float64(2), int64(1), object(1)\n",
      "memory usage: 79.6+ KB\n"
     ]
    }
   ],
   "source": [
    "gross['foreign_gross']= gross['foreign_gross'].astype('float')\n",
    "gross.info()"
   ]
  },
  {
   "cell_type": "code",
   "execution_count": 21,
   "metadata": {},
   "outputs": [
    {
     "data": {
      "text/plain": [
       "18700000.0"
      ]
     },
     "execution_count": 21,
     "metadata": {},
     "output_type": "execute_result"
    }
   ],
   "source": [
    "f_gross_median = gross['foreign_gross'].median()\n",
    "f_gross_median"
   ]
  },
  {
   "cell_type": "code",
   "execution_count": 22,
   "metadata": {},
   "outputs": [],
   "source": [
    "bnr_2['foreign_gross'] = bnr_2['foreign_gross'].fillna(f_gross_median)"
   ]
  },
  {
   "cell_type": "code",
   "execution_count": 23,
   "metadata": {},
   "outputs": [],
   "source": [
    "bnr_2['foreign_gross']= bnr_2['foreign_gross'].replace(['1,131.6'],1131561399)\n",
    "bnr_2['foreign_gross']= bnr_2['foreign_gross'].replace(['1,019.4'],1018130012)\n",
    "bnr_2['foreign_gross']= bnr_2['foreign_gross'].replace(['1,163.0'],1162040651)\n",
    "bnr_2['foreign_gross']= bnr_2['foreign_gross'].replace(['1,369.5'],1369500000)\n",
    "bnr_2['foreign_gross']= bnr_2['foreign_gross'].replace(['1,010.0'],1010000000)"
   ]
  },
  {
   "cell_type": "code",
   "execution_count": 24,
   "metadata": {},
   "outputs": [],
   "source": [
    "bnr_2['foreign_gross'] = bnr_2['foreign_gross'].astype('float')"
   ]
  },
  {
   "cell_type": "markdown",
   "metadata": {},
   "source": [
    "## Data Modeling\n",
    "Describe and justify the process for analyzing or modeling the data.\n",
    "\n",
    "***\n",
    "Questions to consider:\n",
    "* How did you analyze or model the data?\n",
    "* How did you iterate on your initial approach to make it better?\n",
    "* Why are these choices appropriate given the data and the business problem?\n",
    "***"
   ]
  },
  {
   "cell_type": "code",
   "execution_count": 25,
   "metadata": {},
   "outputs": [],
   "source": [
    "#26 records had no genre, so it is easiest to remove this small number of records with missing info. \n",
    "bnr_2= bnr_2.dropna(subset=['genres'])\n"
   ]
  },
  {
   "cell_type": "code",
   "execution_count": 26,
   "metadata": {},
   "outputs": [
    {
     "data": {
      "text/plain": [
       "'18             Action,Crime,Drama\\n29        Action,Adventure,Sci-Fi\\n30                    Crime,Drama\\n32        Biography,Drama,History\\n43       Action,Adventure,Fantasy\\n                   ...           \\n76661                       Drama\\n76726                       Drama\\n76871                Action,Drama\\n76901                       Crime\\n77239                 Documentary\\nName: genres, Length: 1460, dtype: object'"
      ]
     },
     "execution_count": 26,
     "metadata": {},
     "output_type": "execute_result"
    }
   ],
   "source": [
    "genres = bnr_2['genres']\n",
    "str(genres)"
   ]
  },
  {
   "cell_type": "code",
   "execution_count": 27,
   "metadata": {
    "scrolled": true
   },
   "outputs": [],
   "source": [
    "genres1 = bnr_2['genres'].map(lambda x: x.split(', '))"
   ]
  },
  {
   "cell_type": "code",
   "execution_count": 28,
   "metadata": {},
   "outputs": [],
   "source": [
    "bnr_2['genreslist'] = bnr_2['genres'].tolist()"
   ]
  },
  {
   "cell_type": "code",
   "execution_count": null,
   "metadata": {},
   "outputs": [],
   "source": []
  },
  {
   "cell_type": "code",
   "execution_count": 29,
   "metadata": {},
   "outputs": [
    {
     "ename": "SyntaxError",
     "evalue": "invalid syntax (4283088248.py, line 2)",
     "output_type": "error",
     "traceback": [
      "\u001b[1;36m  Input \u001b[1;32mIn [29]\u001b[1;36m\u001b[0m\n\u001b[1;33m    for x in bnr_2[]:\u001b[0m\n\u001b[1;37m                   ^\u001b[0m\n\u001b[1;31mSyntaxError\u001b[0m\u001b[1;31m:\u001b[0m invalid syntax\n"
     ]
    }
   ],
   "source": [
    "musical_gross= []\n",
    "for x in bnr_2[]:\n",
    "    if 'Musical' in x:\n",
    "        musical_gross.append(x)\n",
    "musical_gross\n"
   ]
  },
  {
   "cell_type": "code",
   "execution_count": 30,
   "metadata": {},
   "outputs": [
    {
     "name": "stdout",
     "output_type": "stream",
     "text": [
      "18             [Action, Crime, Drama]\n",
      "29        [Action, Adventure, Sci-Fi]\n",
      "30                     [Crime, Drama]\n",
      "32        [Biography, Drama, History]\n",
      "43       [Action, Adventure, Fantasy]\n",
      "                     ...             \n",
      "76661                         [Drama]\n",
      "76726                         [Drama]\n",
      "76871                 [Action, Drama]\n",
      "76901                         [Crime]\n",
      "77239                   [Documentary]\n",
      "Name: genres, Length: 1460, dtype: object\n"
     ]
    }
   ],
   "source": [
    "print(bnr_2['genres'].map(lambda x: x.split(',')))"
   ]
  },
  {
   "cell_type": "code",
   "execution_count": null,
   "metadata": {},
   "outputs": [],
   "source": []
  },
  {
   "cell_type": "code",
   "execution_count": null,
   "metadata": {},
   "outputs": [],
   "source": [
    "sent_str = \"\"\n",
    "for x in bnr_2['genreslist']:\n",
    "    sent_str += str(x) + \",\"\n",
    "sent_str = sent_str.split(',')\n"
   ]
  },
  {
   "cell_type": "code",
   "execution_count": null,
   "metadata": {
    "scrolled": false
   },
   "outputs": [],
   "source": [
    "from collections import Counter\n",
    "counts_average = Counter(sent_str).most_common()\n",
    "print(counts_average)\n",
    "type(counts_average)\n"
   ]
  },
  {
   "cell_type": "code",
   "execution_count": null,
   "metadata": {},
   "outputs": [],
   "source": [
    "names = []\n",
    "for x in counts_average:\n",
    "    names.append(x[0])\n",
    "names"
   ]
  },
  {
   "cell_type": "code",
   "execution_count": null,
   "metadata": {},
   "outputs": [],
   "source": [
    "values = []\n",
    "for x in counts_average:\n",
    "    values.append(x[1])\n",
    "print(names)\n",
    "print(values)"
   ]
  },
  {
   "cell_type": "code",
   "execution_count": 31,
   "metadata": {},
   "outputs": [],
   "source": [
    "bnr_2['genres'] = bnr_2['genres'].map(lambda x: str(x))"
   ]
  },
  {
   "cell_type": "code",
   "execution_count": null,
   "metadata": {},
   "outputs": [],
   "source": [
    "fig, ax = plt.subplots()\n",
    "barlist=plt.bar(range(len(counts_average)), values, tick_label=names)\n",
    "plt.xticks(rotation=90)\n",
    "ax.set_ylabel('Number of movies for each genre')\n",
    "ax.set_xlabel('Genres')\n",
    "ax.set_title('2015-2019 TOP20 highest rated IMDB movies \\n Most common genres \\n', fontweight=\"bold\")\n",
    "barlist[0].set_color('blue')\n",
    "fig.tight_layout()\n",
    "plt.savefig('./images/top20_IMDB_genres.png', bbox_inches = \"tight\")\n",
    "plt.show();"
   ]
  },
  {
   "cell_type": "code",
   "execution_count": null,
   "metadata": {},
   "outputs": [],
   "source": []
  },
  {
   "cell_type": "code",
   "execution_count": 32,
   "metadata": {
    "scrolled": true
   },
   "outputs": [],
   "source": [
    "bnr_2['total_gross'] = bnr_2['domestic_gross'] + bnr_2['foreign_gross']"
   ]
  },
  {
   "cell_type": "markdown",
   "metadata": {},
   "source": [
    "## Analysis by Ratings"
   ]
  },
  {
   "cell_type": "code",
   "execution_count": 33,
   "metadata": {},
   "outputs": [
    {
     "data": {
      "text/plain": [
       "300"
      ]
     },
     "execution_count": 33,
     "metadata": {},
     "output_type": "execute_result"
    }
   ],
   "source": [
    "by_gross = bnr_2.sort_values('total_gross', ascending=False)\n",
    "top_300 = by_gross['total_gross'][0:300]\n",
    "top_300 = list(top_300)\n",
    "\n",
    "len(top_300)"
   ]
  },
  {
   "cell_type": "code",
   "execution_count": 34,
   "metadata": {},
   "outputs": [],
   "source": [
    "by_rating = bnr_2.sort_values('total_gross', ascending=False)\n",
    "best_300 = by_rating['averagerating'][0:300]\n",
    "best_300 = list(best_300)\n"
   ]
  },
  {
   "cell_type": "code",
   "execution_count": 35,
   "metadata": {},
   "outputs": [],
   "source": [
    "bottom_gross = bnr_2.sort_values('total_gross')\n",
    "bottom_300 = bottom_gross['total_gross'][0:300]\n",
    "bottom_300 = list(bottom_300)\n"
   ]
  },
  {
   "cell_type": "code",
   "execution_count": 36,
   "metadata": {},
   "outputs": [],
   "source": [
    "worst_ratings = bnr_2.sort_values('total_gross')\n",
    "worst_300 = worst_ratings['averagerating'][0:300]\n",
    "worst_300 = list(worst_300)"
   ]
  },
  {
   "cell_type": "code",
   "execution_count": null,
   "metadata": {},
   "outputs": [],
   "source": []
  },
  {
   "cell_type": "code",
   "execution_count": 64,
   "metadata": {},
   "outputs": [
    {
     "data": {
      "text/plain": [
       "112.13257575757575"
      ]
     },
     "execution_count": 64,
     "metadata": {},
     "output_type": "execute_result"
    }
   ],
   "source": [
    "tops = pd.DataFrame()\n",
    "tops['Gross'] = top_300\n",
    "tops['AvgRatings'] = best_300\n",
    "tops['runtime'] = Time_top_300 \n",
    "\n",
    "tops = tops.dropna()\n",
    "\n",
    "correlation = tops.corr(method='pearson')\n",
    "correlation\n",
    "\n",
    "tops['runtime'].mean()\n"
   ]
  },
  {
   "cell_type": "code",
   "execution_count": 39,
   "metadata": {},
   "outputs": [
    {
     "data": {
      "text/html": [
       "<div>\n",
       "<style scoped>\n",
       "    .dataframe tbody tr th:only-of-type {\n",
       "        vertical-align: middle;\n",
       "    }\n",
       "\n",
       "    .dataframe tbody tr th {\n",
       "        vertical-align: top;\n",
       "    }\n",
       "\n",
       "    .dataframe thead th {\n",
       "        text-align: right;\n",
       "    }\n",
       "</style>\n",
       "<table border=\"1\" class=\"dataframe\">\n",
       "  <thead>\n",
       "    <tr style=\"text-align: right;\">\n",
       "      <th></th>\n",
       "      <th>gross</th>\n",
       "      <th>Avg_Rating</th>\n",
       "      <th>runtime</th>\n",
       "    </tr>\n",
       "  </thead>\n",
       "  <tbody>\n",
       "    <tr>\n",
       "      <th>gross</th>\n",
       "      <td>1.000000</td>\n",
       "      <td>0.135255</td>\n",
       "      <td>0.137843</td>\n",
       "    </tr>\n",
       "    <tr>\n",
       "      <th>Avg_Rating</th>\n",
       "      <td>0.135255</td>\n",
       "      <td>1.000000</td>\n",
       "      <td>0.198598</td>\n",
       "    </tr>\n",
       "    <tr>\n",
       "      <th>runtime</th>\n",
       "      <td>0.137843</td>\n",
       "      <td>0.198598</td>\n",
       "      <td>1.000000</td>\n",
       "    </tr>\n",
       "  </tbody>\n",
       "</table>\n",
       "</div>"
      ],
      "text/plain": [
       "               gross  Avg_Rating   runtime\n",
       "gross       1.000000    0.135255  0.137843\n",
       "Avg_Rating  0.135255    1.000000  0.198598\n",
       "runtime     0.137843    0.198598  1.000000"
      ]
     },
     "execution_count": 39,
     "metadata": {},
     "output_type": "execute_result"
    }
   ],
   "source": [
    "CorrelationDF = pd.DataFrame()\n",
    "CorrelationDF['gross'] = bnr_2['total_gross']\n",
    "CorrelationDF['Avg_Rating'] = bnr_2['averagerating']\n",
    "CorrelationDF['runtime'] = bnr_2['runtime_minutes']\n",
    "\n",
    "CorrelationDF\n",
    "correlation = CorrelationDF.corr(method='pearson')\n",
    "correlation"
   ]
  },
  {
   "cell_type": "code",
   "execution_count": 40,
   "metadata": {},
   "outputs": [
    {
     "data": {
      "image/png": "[encoded data removed]",
      "text/plain": [
       "<Figure size 792x288 with 2 Axes>"
      ]
     },
     "metadata": {
      "needs_background": "light"
     },
     "output_type": "display_data"
    }
   ],
   "source": [
    "# Rating Vs Gross\n",
    "fig, (ax1, ax2) = plt.subplots(figsize=(11,4), ncols=2)\n",
    "\n",
    "ax1.scatter(x=top_300, y=best_300, color='purple', marker='h')\n",
    "ax1.set_xlabel('Total Gross')\n",
    "ax1.set_ylabel('Avg Rating')\n",
    "\n",
    "\n",
    "ax2.scatter(x=bottom_300, y=worst_300,color='darkcyan', marker='h')\n",
    "ax2.set_xlabel('Total Gross')\n",
    "ax2.set_ylabel('Avg Rating')\n",
    "\n",
    "fig.suptitle(\"Ratings Vs Gross\", fontsize=24, x=0.44)\n",
    "\n",
    "fig.legend(labels=[\"Top 300 by Gross\", \"Bottom 300 by Gross\"], loc=(.68, .88));"
   ]
  },
  {
   "cell_type": "markdown",
   "metadata": {},
   "source": [
    "## Analysis by Runtime \n"
   ]
  },
  {
   "cell_type": "code",
   "execution_count": 61,
   "metadata": {
    "scrolled": true
   },
   "outputs": [
    {
     "data": {
      "text/plain": [
       "[149.0,\n",
       " 124.0,\n",
       " 137.0,\n",
       " 141.0,\n",
       " 134.0,\n",
       " 152.0,\n",
       " 128.0,\n",
       " 118.0,\n",
       " 136.0,\n",
       " 91.0,\n",
       " 147.0,\n",
       " 143.0,\n",
       " 133.0,\n",
       " 89.0,\n",
       " 97.0,\n",
       " 108.0,\n",
       " 119.0,\n",
       " 134.0,\n",
       " 148.0,\n",
       " 133.0,\n",
       " 87.0,\n",
       " 151.0,\n",
       " 123.0,\n",
       " 136.0,\n",
       " 95.0,\n",
       " 130.0,\n",
       " 75.0,\n",
       " 141.0,\n",
       " 105.0,\n",
       " 98.0,\n",
       " 129.0,\n",
       " 147.0,\n",
       " 108.0,\n",
       " 119.0,\n",
       " 123.0,\n",
       " 135.0,\n",
       " 131.0,\n",
       " 115.0,\n",
       " 120.0,\n",
       " 134.0,\n",
       " 137.0,\n",
       " 107.0,\n",
       " 108.0,\n",
       " 144.0,\n",
       " 118.0,\n",
       " 154.0,\n",
       " 140.0,\n",
       " 142.0,\n",
       " 125.0,\n",
       " 118.0,\n",
       " 121.0,\n",
       " 144.0,\n",
       " 156.0,\n",
       " 113.0,\n",
       " 112.0,\n",
       " 97.0,\n",
       " 97.0,\n",
       " 106.0,\n",
       " 95.0,\n",
       " 117.0,\n",
       " 140.0,\n",
       " 87.0,\n",
       " 89.0,\n",
       " 114.0,\n",
       " 114.0,\n",
       " 40.0,\n",
       " 9.0,\n",
       " 128.0,\n",
       " 105.0,\n",
       " 123.0,\n",
       " 123.0,\n",
       " 141.0,\n",
       " 94.0,\n",
       " 114.0,\n",
       " 135.0,\n",
       " 120.0,\n",
       " 117.0,\n",
       " 102.0,\n",
       " 118.0,\n",
       " 120.0,\n",
       " 105.0,\n",
       " 96.0,\n",
       " 110.0,\n",
       " 106.0,\n",
       " 110.0,\n",
       " 97.0,\n",
       " 95.0,\n",
       " 130.0,\n",
       " 92.0,\n",
       " 122.0,\n",
       " 90.0,\n",
       " 80.0,\n",
       " 72.0,\n",
       " 103.0,\n",
       " 129.0,\n",
       " 93.0,\n",
       " 92.0,\n",
       " 116.0,\n",
       " 60.0,\n",
       " 134.0,\n",
       " 130.0,\n",
       " 131.0,\n",
       " 107.0,\n",
       " 109.0,\n",
       " 113.0,\n",
       " 102.0,\n",
       " 161.0,\n",
       " 113.0,\n",
       " 127.0,\n",
       " 108.0,\n",
       " 115.0,\n",
       " 90.0,\n",
       " 127.0,\n",
       " 117.0,\n",
       " 80.0,\n",
       " 123.0,\n",
       " nan,\n",
       " 119.0,\n",
       " 90.0,\n",
       " 74.0,\n",
       " 164.0,\n",
       " 114.0,\n",
       " 104.0,\n",
       " 167.0,\n",
       " 107.0,\n",
       " 109.0,\n",
       " 88.0,\n",
       " 112.0,\n",
       " 105.0,\n",
       " 96.0,\n",
       " 115.0,\n",
       " 122.0,\n",
       " 96.0,\n",
       " 120.0,\n",
       " 127.0,\n",
       " 119.0,\n",
       " 92.0,\n",
       " 105.0,\n",
       " 104.0,\n",
       " 103.0,\n",
       " 113.0,\n",
       " 137.0,\n",
       " 109.0,\n",
       " 58.0,\n",
       " 121.0,\n",
       " 16.0,\n",
       " 86.0,\n",
       " 107.0,\n",
       " 115.0,\n",
       " 96.0,\n",
       " 130.0,\n",
       " nan,\n",
       " 123.0,\n",
       " 70.0,\n",
       " 130.0,\n",
       " 106.0,\n",
       " nan,\n",
       " nan,\n",
       " 99.0,\n",
       " nan,\n",
       " 100.0,\n",
       " 116.0,\n",
       " 147.0,\n",
       " 90.0,\n",
       " 90.0,\n",
       " 123.0,\n",
       " 121.0,\n",
       " 121.0,\n",
       " 80.0,\n",
       " 93.0,\n",
       " 127.0,\n",
       " 100.0,\n",
       " 87.0,\n",
       " 117.0,\n",
       " 116.0,\n",
       " 116.0,\n",
       " 80.0,\n",
       " 118.0,\n",
       " 139.0,\n",
       " 99.0,\n",
       " 80.0,\n",
       " 133.0,\n",
       " 124.0,\n",
       " 116.0,\n",
       " 100.0,\n",
       " 103.0,\n",
       " 53.0,\n",
       " 84.0,\n",
       " 52.0,\n",
       " 12.0,\n",
       " 116.0,\n",
       " 142.0,\n",
       " 114.0,\n",
       " 104.0,\n",
       " 118.0,\n",
       " 57.0,\n",
       " 3.0,\n",
       " 115.0,\n",
       " 89.0,\n",
       " 88.0,\n",
       " 105.0,\n",
       " 168.0,\n",
       " 128.0,\n",
       " 140.0,\n",
       " 75.0,\n",
       " 102.0,\n",
       " 125.0,\n",
       " 127.0,\n",
       " 103.0,\n",
       " nan,\n",
       " 73.0,\n",
       " 90.0,\n",
       " 81.0,\n",
       " 126.0,\n",
       " 106.0,\n",
       " 90.0,\n",
       " nan,\n",
       " 89.0,\n",
       " 113.0,\n",
       " 95.0,\n",
       " 125.0,\n",
       " 89.0,\n",
       " 122.0,\n",
       " 70.0,\n",
       " 118.0,\n",
       " 143.0,\n",
       " 134.0,\n",
       " 98.0,\n",
       " 115.0,\n",
       " 53.0,\n",
       " 130.0,\n",
       " 109.0,\n",
       " 104.0,\n",
       " 111.0,\n",
       " 121.0,\n",
       " 98.0,\n",
       " 89.0,\n",
       " 96.0,\n",
       " 102.0,\n",
       " 115.0,\n",
       " 107.0,\n",
       " 127.0,\n",
       " 118.0,\n",
       " 105.0,\n",
       " 124.0,\n",
       " 86.0,\n",
       " 108.0,\n",
       " 111.0,\n",
       " 100.0,\n",
       " 114.0,\n",
       " 105.0,\n",
       " 95.0,\n",
       " 86.0,\n",
       " 110.0,\n",
       " 90.0,\n",
       " 100.0,\n",
       " 103.0,\n",
       " 112.0,\n",
       " 99.0,\n",
       " 92.0,\n",
       " 94.0,\n",
       " 85.0,\n",
       " 141.0,\n",
       " 92.0,\n",
       " nan,\n",
       " nan,\n",
       " nan,\n",
       " 118.0,\n",
       " 72.0,\n",
       " 102.0,\n",
       " 53.0,\n",
       " 99.0,\n",
       " 89.0,\n",
       " 92.0,\n",
       " nan,\n",
       " 124.0,\n",
       " 120.0,\n",
       " 4.0,\n",
       " 80.0,\n",
       " 124.0,\n",
       " 99.0,\n",
       " 115.0,\n",
       " 123.0,\n",
       " 94.0,\n",
       " 99.0,\n",
       " 129.0,\n",
       " 90.0,\n",
       " 80.0,\n",
       " 96.0,\n",
       " 71.0,\n",
       " 117.0,\n",
       " 108.0,\n",
       " nan,\n",
       " 120.0,\n",
       " 93.0,\n",
       " 132.0,\n",
       " 119.0,\n",
       " 90.0,\n",
       " 100.0,\n",
       " 92.0]"
      ]
     },
     "execution_count": 61,
     "metadata": {},
     "output_type": "execute_result"
    }
   ],
   "source": [
    "top_by_runtime = bnr_2.sort_values('total_gross', ascending=False)\n",
    "Time_top_300 = top_by_runtime['runtime_minutes'][0:300]\n",
    "Time_top_300 = list(Time_top_300)\n"
   ]
  },
  {
   "cell_type": "code",
   "execution_count": 66,
   "metadata": {},
   "outputs": [
    {
     "data": {
      "text/html": [
       "<div>\n",
       "<style scoped>\n",
       "    .dataframe tbody tr th:only-of-type {\n",
       "        vertical-align: middle;\n",
       "    }\n",
       "\n",
       "    .dataframe tbody tr th {\n",
       "        vertical-align: top;\n",
       "    }\n",
       "\n",
       "    .dataframe thead th {\n",
       "        text-align: right;\n",
       "    }\n",
       "</style>\n",
       "<table border=\"1\" class=\"dataframe\">\n",
       "  <thead>\n",
       "    <tr style=\"text-align: right;\">\n",
       "      <th></th>\n",
       "      <th>Gross</th>\n",
       "      <th>Runtime</th>\n",
       "    </tr>\n",
       "  </thead>\n",
       "  <tbody>\n",
       "    <tr>\n",
       "      <th>0</th>\n",
       "      <td>2.048300e+09</td>\n",
       "      <td>149.0</td>\n",
       "    </tr>\n",
       "    <tr>\n",
       "      <th>1</th>\n",
       "      <td>1.670430e+09</td>\n",
       "      <td>124.0</td>\n",
       "    </tr>\n",
       "    <tr>\n",
       "      <th>2</th>\n",
       "      <td>1.515041e+09</td>\n",
       "      <td>137.0</td>\n",
       "    </tr>\n",
       "    <tr>\n",
       "      <th>3</th>\n",
       "      <td>1.405400e+09</td>\n",
       "      <td>141.0</td>\n",
       "    </tr>\n",
       "    <tr>\n",
       "      <th>4</th>\n",
       "      <td>1.347000e+09</td>\n",
       "      <td>134.0</td>\n",
       "    </tr>\n",
       "    <tr>\n",
       "      <th>...</th>\n",
       "      <td>...</td>\n",
       "      <td>...</td>\n",
       "    </tr>\n",
       "    <tr>\n",
       "      <th>295</th>\n",
       "      <td>9.700000e+07</td>\n",
       "      <td>132.0</td>\n",
       "    </tr>\n",
       "    <tr>\n",
       "      <th>296</th>\n",
       "      <td>9.600000e+07</td>\n",
       "      <td>119.0</td>\n",
       "    </tr>\n",
       "    <tr>\n",
       "      <th>297</th>\n",
       "      <td>9.530000e+07</td>\n",
       "      <td>90.0</td>\n",
       "    </tr>\n",
       "    <tr>\n",
       "      <th>298</th>\n",
       "      <td>9.530000e+07</td>\n",
       "      <td>100.0</td>\n",
       "    </tr>\n",
       "    <tr>\n",
       "      <th>299</th>\n",
       "      <td>9.530000e+07</td>\n",
       "      <td>92.0</td>\n",
       "    </tr>\n",
       "  </tbody>\n",
       "</table>\n",
       "<p>288 rows × 2 columns</p>\n",
       "</div>"
      ],
      "text/plain": [
       "            Gross  Runtime\n",
       "0    2.048300e+09    149.0\n",
       "1    1.670430e+09    124.0\n",
       "2    1.515041e+09    137.0\n",
       "3    1.405400e+09    141.0\n",
       "4    1.347000e+09    134.0\n",
       "..            ...      ...\n",
       "295  9.700000e+07    132.0\n",
       "296  9.600000e+07    119.0\n",
       "297  9.530000e+07     90.0\n",
       "298  9.530000e+07    100.0\n",
       "299  9.530000e+07     92.0\n",
       "\n",
       "[288 rows x 2 columns]"
      ]
     },
     "execution_count": 66,
     "metadata": {},
     "output_type": "execute_result"
    }
   ],
   "source": [
    "TopRuntime = pd.DataFrame()\n",
    "TopRuntime['Gross'] = top_300\n",
    "TopRuntime['Runtime'] = Time_top_300 \n",
    "\n",
    "TopRuntime = TopRuntime.dropna()\n",
    "TopRuntime"
   ]
  },
  {
   "cell_type": "code",
   "execution_count": 67,
   "metadata": {},
   "outputs": [],
   "source": [
    "bottom_by_runtime = bnr_2.sort_values('total_gross')\n",
    "Time_bottom_300 = bottom_by_runtime['runtime_minutes'][0:300]\n",
    "Time_bottom_300 = list(Time_bottom_300)\n"
   ]
  },
  {
   "cell_type": "code",
   "execution_count": 68,
   "metadata": {},
   "outputs": [
    {
     "data": {
      "text/plain": [
       "98.41044776119404"
      ]
     },
     "execution_count": 68,
     "metadata": {},
     "output_type": "execute_result"
    }
   ],
   "source": [
    "BottomsRuntime = pd.DataFrame()\n",
    "BottomsRuntime['Gross'] = bottom_300\n",
    "BottomsRuntime['Runtime'] = Time_bottom_300 \n",
    "\n",
    "BottomsRuntime = BottomsRuntime.dropna()\n",
    "\n",
    "BottomsRuntime['Runtime'].mean()"
   ]
  },
  {
   "cell_type": "code",
   "execution_count": 69,
   "metadata": {},
   "outputs": [
    {
     "ename": "TypeError",
     "evalue": "'DataFrame' object is not callable",
     "output_type": "error",
     "traceback": [
      "\u001b[1;31m---------------------------------------------------------------------------\u001b[0m",
      "\u001b[1;31mTypeError\u001b[0m                                 Traceback (most recent call last)",
      "Input \u001b[1;32mIn [69]\u001b[0m, in \u001b[0;36m<cell line: 2>\u001b[1;34m()\u001b[0m\n\u001b[0;32m      1\u001b[0m correlation \u001b[38;5;241m=\u001b[39m BottomsRuntime\u001b[38;5;241m.\u001b[39mcorr(method\u001b[38;5;241m=\u001b[39m\u001b[38;5;124m'\u001b[39m\u001b[38;5;124mpearson\u001b[39m\u001b[38;5;124m'\u001b[39m)\n\u001b[1;32m----> 2\u001b[0m \u001b[43mcorrelation\u001b[49m\u001b[43m(\u001b[49m\u001b[43m)\u001b[49m\n",
      "\u001b[1;31mTypeError\u001b[0m: 'DataFrame' object is not callable"
     ]
    }
   ],
   "source": [
    "correlation = BottomsRuntime.corr(method='pearson')\n",
    "correlation()"
   ]
  },
  {
   "cell_type": "code",
   "execution_count": 70,
   "metadata": {},
   "outputs": [
    {
     "name": "stdout",
     "output_type": "stream",
     "text": [
      "<class 'pandas.core.frame.DataFrame'>\n",
      "Int64Index: 268 entries, 0 to 299\n",
      "Data columns (total 2 columns):\n",
      " #   Column   Non-Null Count  Dtype  \n",
      "---  ------   --------------  -----  \n",
      " 0   Gross    268 non-null    float64\n",
      " 1   Runtime  268 non-null    float64\n",
      "dtypes: float64(2)\n",
      "memory usage: 6.3 KB\n"
     ]
    }
   ],
   "source": [
    "BottomsRuntime.info()"
   ]
  },
  {
   "cell_type": "code",
   "execution_count": null,
   "metadata": {},
   "outputs": [],
   "source": []
  },
  {
   "cell_type": "code",
   "execution_count": 71,
   "metadata": {},
   "outputs": [
    {
     "data": {
      "text/plain": [
       "Text(0.51, 1.1, 'Runtime Vs Gross')"
      ]
     },
     "execution_count": 71,
     "metadata": {},
     "output_type": "execute_result"
    },
    {
     "data": {
      "image/png": "[encoded data removed]",
      "text/plain": [
       "<Figure size 792x288 with 2 Axes>"
      ]
     },
     "metadata": {
      "needs_background": "light"
     },
     "output_type": "display_data"
    }
   ],
   "source": [
    "# Runtime Vs Gross\n",
    "fig, (ax3, ax4) = plt.subplots(figsize=(11,4), ncols=2)\n",
    "\n",
    "ax3.scatter(x=top_300, y=Time_top_300, color='purple', marker='h')\n",
    "ax3.set_title('Top 300 by Gross')\n",
    "ax3.set_xlabel('Total Gross')\n",
    "ax3.set_ylabel('Runtime')\n",
    "\n",
    "\n",
    "ax4.scatter(x=bottom_300, y=Time_bottom_300,color='darkcyan', marker='h')\n",
    "ax4.set_title('Bottom 300 by Gross')\n",
    "ax4.set_xlabel('Total Gross')\n",
    "ax4.set_ylabel('Runtime')\n",
    "\n",
    "fig.suptitle(\"Runtime Vs Gross\", fontsize=24, x=0.51, y=1.1)\n"
   ]
  },
  {
   "cell_type": "markdown",
   "metadata": {},
   "source": [
    "## Analysis by Genre \n"
   ]
  },
  {
   "cell_type": "code",
   "execution_count": 72,
   "metadata": {},
   "outputs": [],
   "source": [
    "bnr_by_gross = bnr_2.sort_values('total_gross', ascending=False)\n",
    "bnr_top300_by_gross = bnr_by_gross[0:300]\n"
   ]
  },
  {
   "cell_type": "code",
   "execution_count": 73,
   "metadata": {},
   "outputs": [
    {
     "data": {
      "text/plain": [
       "756"
      ]
     },
     "execution_count": 73,
     "metadata": {},
     "output_type": "execute_result"
    }
   ],
   "source": [
    "Top_genres = \"\"\n",
    "for x in bnr_top300_by_gross['genreslist']:\n",
    "    Top_genres += str(x) + \",\"\n",
    "Top_genres = Top_genres.split(',')\n",
    "\n",
    "len(Top_genres)"
   ]
  },
  {
   "cell_type": "code",
   "execution_count": 75,
   "metadata": {
    "scrolled": true
   },
   "outputs": [
    {
     "name": "stdout",
     "output_type": "stream",
     "text": [
      "[('Action', 120), ('Adventure', 117), ('Comedy', 103), ('Drama', 101), ('Thriller', 38), ('Animation', 37), ('Fantasy', 33), ('Sci-Fi', 31), ('Horror', 28), ('Crime', 27), ('Documentary', 23), ('Biography', 22), ('Mystery', 19), ('Romance', 16), ('Family', 14), ('History', 12), ('Music', 6), ('Sport', 5), ('Musical', 2), ('War', 1), ('', 1)]\n"
     ]
    },
    {
     "data": {
      "text/plain": [
       "list"
      ]
     },
     "execution_count": 75,
     "metadata": {},
     "output_type": "execute_result"
    }
   ],
   "source": [
    "from collections import Counter\n",
    "top_counts_average = Counter(Top_genres).most_common()\n",
    "print(top_counts_average)\n",
    "type(top_counts_average)"
   ]
  },
  {
   "cell_type": "code",
   "execution_count": 87,
   "metadata": {},
   "outputs": [],
   "source": [
    "top_names = []\n",
    "for x in top_counts_average:\n",
    "    top_names.append(x[0])\n"
   ]
  },
  {
   "cell_type": "code",
   "execution_count": 86,
   "metadata": {},
   "outputs": [],
   "source": [
    "top_values = []\n",
    "for x in top_counts_average:\n",
    "    top_values.append(x[1])\n"
   ]
  },
  {
   "cell_type": "code",
   "execution_count": 78,
   "metadata": {},
   "outputs": [
    {
     "data": {
      "text/plain": [
       "300"
      ]
     },
     "execution_count": 78,
     "metadata": {},
     "output_type": "execute_result"
    }
   ],
   "source": [
    "bnr_by_gross_bottom = bnr_2.sort_values('total_gross')\n",
    "bnr_bottom300_by_gross = bnr_by_gross_bottom[0:300]\n",
    "\n",
    "len(bnr_bottom300_by_gross)"
   ]
  },
  {
   "cell_type": "code",
   "execution_count": 79,
   "metadata": {},
   "outputs": [
    {
     "data": {
      "text/plain": [
       "608"
      ]
     },
     "execution_count": 79,
     "metadata": {},
     "output_type": "execute_result"
    }
   ],
   "source": [
    "bottom_genres = \"\"\n",
    "for x in bnr_bottom300_by_gross['genreslist']:\n",
    "    bottom_genres += str(x) + \",\"\n",
    "bottom_genres = bottom_genres.split(',')\n",
    "\n",
    "len(bottom_genres)"
   ]
  },
  {
   "cell_type": "code",
   "execution_count": 80,
   "metadata": {},
   "outputs": [
    {
     "data": {
      "text/plain": [
       "21"
      ]
     },
     "execution_count": 80,
     "metadata": {},
     "output_type": "execute_result"
    }
   ],
   "source": [
    "from collections import Counter\n",
    "bottom_counts_average = Counter(bottom_genres).most_common()\n",
    "bottom_counts_average = bottom_counts_average\n",
    "len(bottom_counts_average)\n"
   ]
  },
  {
   "cell_type": "code",
   "execution_count": 81,
   "metadata": {},
   "outputs": [],
   "source": [
    "bottom_names = []\n",
    "for x in bottom_counts_average:\n",
    "    bottom_names.append(x[0])\n",
    "\n",
    "bottom_names = bottom_names"
   ]
  },
  {
   "cell_type": "code",
   "execution_count": null,
   "metadata": {},
   "outputs": [],
   "source": []
  },
  {
   "cell_type": "code",
   "execution_count": 82,
   "metadata": {},
   "outputs": [
    {
     "name": "stdout",
     "output_type": "stream",
     "text": [
      "['Drama', 'Comedy', 'Thriller', 'Documentary', 'Action', 'Biography', 'Romance', 'Horror', 'Crime', 'Mystery', 'History', 'Adventure', 'Music', 'Fantasy', 'Family', 'Sci-Fi', 'Animation', 'Sport', 'War', 'Western', '']\n",
      "[176, 63, 50, 45, 39, 35, 34, 31, 24, 23, 16, 16, 10, 10, 9, 8, 6, 6, 5, 1, 1]\n"
     ]
    }
   ],
   "source": [
    "bottom_values = []\n",
    "for x in bottom_counts_average:\n",
    "    bottom_values.append(x[1])\n",
    "\n",
    "bottom_values = bottom_values\n",
    "print(bottom_names)\n",
    "print(bottom_values)"
   ]
  },
  {
   "cell_type": "code",
   "execution_count": null,
   "metadata": {},
   "outputs": [],
   "source": []
  },
  {
   "cell_type": "code",
   "execution_count": 83,
   "metadata": {},
   "outputs": [
    {
     "data": {
      "image/png": "[encoded data removed]",
      "text/plain": [
       "<Figure size 1080x432 with 2 Axes>"
      ]
     },
     "metadata": {
      "needs_background": "light"
     },
     "output_type": "display_data"
    }
   ],
   "source": [
    "fig, (gt,gb) = plt.subplots(figsize=(15,6), ncols=2)\n",
    "\n",
    "gt.bar(range(len(top_counts_average)), top_values, color=('purple'), tick_label=top_names)\n",
    "plt.xticks(rotation = 90)\n",
    "gt.set_ylabel('# movies by genre', fontsize=14)\n",
    "gt.set_xlabel('Genres')\n",
    "gt.set_title('Top 300 Movie Genres', fontweight=\"bold\")\n",
    "\n",
    "\n",
    "gb.bar(range(len(bottom_counts_average)), bottom_values, tick_label=bottom_names)\n",
    "plt.xticks(rotation=90)\n",
    "gb.set_ylabel('# of movies for each genre')\n",
    "gb.set_xlabel('Genres')\n",
    "gb.set_title('Bottom 300 Movie Genres', fontweight=\"bold\")\n",
    "fig.tight_layout()\n",
    "plt.savefig('./images/top20_IMDB_genres.png', bbox_inches = \"tight\")\n",
    "plt.show();\n"
   ]
  },
  {
   "cell_type": "code",
   "execution_count": null,
   "metadata": {},
   "outputs": [],
   "source": []
  },
  {
   "cell_type": "code",
   "execution_count": 84,
   "metadata": {
    "scrolled": true
   },
   "outputs": [
    {
     "data": {
      "image/png": "[encoded data removed]",
      "text/plain": [
       "<Figure size 936x360 with 1 Axes>"
      ]
     },
     "metadata": {
      "needs_background": "light"
     },
     "output_type": "display_data"
    }
   ],
   "source": [
    "fig, gt = plt.subplots(figsize=(13,5))\n",
    "barlist=plt.bar(range(len(top_counts_average)), top_values, color=('cyan'), tick_label=top_names)\n",
    "plt.xticks(rotation=90)\n",
    "gt.set_ylabel('Number of movies for each genre')\n",
    "gt.set_xlabel('Genres')\n",
    "gt.set_title('Top 300 Movie Genres', fontweight=\"bold\")\n",
    "fig.tight_layout()\n",
    "plt.savefig('./images/top20_IMDB_genres.png', bbox_inches = \"tight\")\n",
    "plt.show();"
   ]
  },
  {
   "cell_type": "code",
   "execution_count": 85,
   "metadata": {
    "scrolled": true
   },
   "outputs": [
    {
     "data": {
      "image/png": "[encoded data removed]",
      "text/plain": [
       "<Figure size 432x288 with 1 Axes>"
      ]
     },
     "metadata": {
      "needs_background": "light"
     },
     "output_type": "display_data"
    }
   ],
   "source": [
    "fig, gb = plt.subplots()\n",
    "bottom_genres_bar=plt.bar(range(len(bottom_counts_average)), bottom_values, tick_label=bottom_names)\n",
    "plt.xticks(rotation=90)\n",
    "gb.set_ylabel('# of movies for each genre')\n",
    "gb.set_xlabel('Genres')\n",
    "gb.set_title('Bottom 300 Movie Genres', fontweight=\"bold\")\n",
    "fig.tight_layout()\n",
    "plt.savefig('./images/top20_IMDB_genres.png', bbox_inches = \"tight\")\n",
    "plt.show();"
   ]
  },
  {
   "cell_type": "code",
   "execution_count": 90,
   "metadata": {},
   "outputs": [
    {
     "name": "stdout",
     "output_type": "stream",
     "text": [
      "<class 'pandas.core.frame.DataFrame'>\n",
      "Int64Index: 1460 entries, 18 to 77239\n",
      "Data columns (total 14 columns):\n",
      " #   Column           Non-Null Count  Dtype         \n",
      "---  ------           --------------  -----         \n",
      " 0   title            1460 non-null   object        \n",
      " 1   original_title   1460 non-null   object        \n",
      " 2   start_year       1460 non-null   int64         \n",
      " 3   runtime_minutes  1374 non-null   float64       \n",
      " 4   genres           1460 non-null   object        \n",
      " 5   start_year_real  1460 non-null   datetime64[ns]\n",
      " 6   averagerating    1248 non-null   float64       \n",
      " 7   numvotes         1248 non-null   float64       \n",
      " 8   studio           1460 non-null   object        \n",
      " 9   domestic_gross   1460 non-null   float64       \n",
      " 10  foreign_gross    1460 non-null   float64       \n",
      " 11  year             1460 non-null   float64       \n",
      " 12  genreslist       1460 non-null   object        \n",
      " 13  total_gross      1460 non-null   float64       \n",
      "dtypes: datetime64[ns](1), float64(7), int64(1), object(5)\n",
      "memory usage: 171.1+ KB\n"
     ]
    }
   ],
   "source": [
    "bnr_2.info()"
   ]
  },
  {
   "cell_type": "code",
   "execution_count": 88,
   "metadata": {},
   "outputs": [],
   "source": [
    "bnr_by_gross = bnr_2.sort_values('total_gross', ascending=False)\n",
    "bnr_top100_by_gross = bnr_by_gross[0:100]\n",
    "\n"
   ]
  },
  {
   "cell_type": "code",
   "execution_count": 91,
   "metadata": {},
   "outputs": [
    {
     "ename": "KeyError",
     "evalue": "'studio '",
     "output_type": "error",
     "traceback": [
      "\u001b[1;31m---------------------------------------------------------------------------\u001b[0m",
      "\u001b[1;31mKeyError\u001b[0m                                  Traceback (most recent call last)",
      "File \u001b[1;32m~\\anacondaX\\lib\\site-packages\\pandas\\core\\indexes\\base.py:3621\u001b[0m, in \u001b[0;36mIndex.get_loc\u001b[1;34m(self, key, method, tolerance)\u001b[0m\n\u001b[0;32m   3620\u001b[0m \u001b[38;5;28;01mtry\u001b[39;00m:\n\u001b[1;32m-> 3621\u001b[0m     \u001b[38;5;28;01mreturn\u001b[39;00m \u001b[38;5;28;43mself\u001b[39;49m\u001b[38;5;241;43m.\u001b[39;49m\u001b[43m_engine\u001b[49m\u001b[38;5;241;43m.\u001b[39;49m\u001b[43mget_loc\u001b[49m\u001b[43m(\u001b[49m\u001b[43mcasted_key\u001b[49m\u001b[43m)\u001b[49m\n\u001b[0;32m   3622\u001b[0m \u001b[38;5;28;01mexcept\u001b[39;00m \u001b[38;5;167;01mKeyError\u001b[39;00m \u001b[38;5;28;01mas\u001b[39;00m err:\n",
      "File \u001b[1;32m~\\anacondaX\\lib\\site-packages\\pandas\\_libs\\index.pyx:136\u001b[0m, in \u001b[0;36mpandas._libs.index.IndexEngine.get_loc\u001b[1;34m()\u001b[0m\n",
      "File \u001b[1;32m~\\anacondaX\\lib\\site-packages\\pandas\\_libs\\index.pyx:163\u001b[0m, in \u001b[0;36mpandas._libs.index.IndexEngine.get_loc\u001b[1;34m()\u001b[0m\n",
      "File \u001b[1;32mpandas\\_libs\\hashtable_class_helper.pxi:5198\u001b[0m, in \u001b[0;36mpandas._libs.hashtable.PyObjectHashTable.get_item\u001b[1;34m()\u001b[0m\n",
      "File \u001b[1;32mpandas\\_libs\\hashtable_class_helper.pxi:5206\u001b[0m, in \u001b[0;36mpandas._libs.hashtable.PyObjectHashTable.get_item\u001b[1;34m()\u001b[0m\n",
      "\u001b[1;31mKeyError\u001b[0m: 'studio '",
      "\nThe above exception was the direct cause of the following exception:\n",
      "\u001b[1;31mKeyError\u001b[0m                                  Traceback (most recent call last)",
      "Input \u001b[1;32mIn [91]\u001b[0m, in \u001b[0;36m<cell line: 2>\u001b[1;34m()\u001b[0m\n\u001b[0;32m      1\u001b[0m Top_studios \u001b[38;5;241m=\u001b[39m \u001b[38;5;124m\"\u001b[39m\u001b[38;5;124m\"\u001b[39m\n\u001b[1;32m----> 2\u001b[0m \u001b[38;5;28;01mfor\u001b[39;00m x \u001b[38;5;129;01min\u001b[39;00m \u001b[43mbnr_top100_by_gross\u001b[49m\u001b[43m[\u001b[49m\u001b[38;5;124;43m'\u001b[39;49m\u001b[38;5;124;43mstudio \u001b[39;49m\u001b[38;5;124;43m'\u001b[39;49m\u001b[43m]\u001b[49m:\n\u001b[0;32m      3\u001b[0m     Top_studios \u001b[38;5;241m+\u001b[39m\u001b[38;5;241m=\u001b[39m \u001b[38;5;28mstr\u001b[39m(x) \u001b[38;5;241m+\u001b[39m \u001b[38;5;124m\"\u001b[39m\u001b[38;5;124m,\u001b[39m\u001b[38;5;124m\"\u001b[39m\n\u001b[0;32m      4\u001b[0m Top_studios \u001b[38;5;241m=\u001b[39m Top_studios\u001b[38;5;241m.\u001b[39msplit(\u001b[38;5;124m'\u001b[39m\u001b[38;5;124m,\u001b[39m\u001b[38;5;124m'\u001b[39m)\n",
      "File \u001b[1;32m~\\anacondaX\\lib\\site-packages\\pandas\\core\\frame.py:3505\u001b[0m, in \u001b[0;36mDataFrame.__getitem__\u001b[1;34m(self, key)\u001b[0m\n\u001b[0;32m   3503\u001b[0m \u001b[38;5;28;01mif\u001b[39;00m \u001b[38;5;28mself\u001b[39m\u001b[38;5;241m.\u001b[39mcolumns\u001b[38;5;241m.\u001b[39mnlevels \u001b[38;5;241m>\u001b[39m \u001b[38;5;241m1\u001b[39m:\n\u001b[0;32m   3504\u001b[0m     \u001b[38;5;28;01mreturn\u001b[39;00m \u001b[38;5;28mself\u001b[39m\u001b[38;5;241m.\u001b[39m_getitem_multilevel(key)\n\u001b[1;32m-> 3505\u001b[0m indexer \u001b[38;5;241m=\u001b[39m \u001b[38;5;28;43mself\u001b[39;49m\u001b[38;5;241;43m.\u001b[39;49m\u001b[43mcolumns\u001b[49m\u001b[38;5;241;43m.\u001b[39;49m\u001b[43mget_loc\u001b[49m\u001b[43m(\u001b[49m\u001b[43mkey\u001b[49m\u001b[43m)\u001b[49m\n\u001b[0;32m   3506\u001b[0m \u001b[38;5;28;01mif\u001b[39;00m is_integer(indexer):\n\u001b[0;32m   3507\u001b[0m     indexer \u001b[38;5;241m=\u001b[39m [indexer]\n",
      "File \u001b[1;32m~\\anacondaX\\lib\\site-packages\\pandas\\core\\indexes\\base.py:3623\u001b[0m, in \u001b[0;36mIndex.get_loc\u001b[1;34m(self, key, method, tolerance)\u001b[0m\n\u001b[0;32m   3621\u001b[0m     \u001b[38;5;28;01mreturn\u001b[39;00m \u001b[38;5;28mself\u001b[39m\u001b[38;5;241m.\u001b[39m_engine\u001b[38;5;241m.\u001b[39mget_loc(casted_key)\n\u001b[0;32m   3622\u001b[0m \u001b[38;5;28;01mexcept\u001b[39;00m \u001b[38;5;167;01mKeyError\u001b[39;00m \u001b[38;5;28;01mas\u001b[39;00m err:\n\u001b[1;32m-> 3623\u001b[0m     \u001b[38;5;28;01mraise\u001b[39;00m \u001b[38;5;167;01mKeyError\u001b[39;00m(key) \u001b[38;5;28;01mfrom\u001b[39;00m \u001b[38;5;21;01merr\u001b[39;00m\n\u001b[0;32m   3624\u001b[0m \u001b[38;5;28;01mexcept\u001b[39;00m \u001b[38;5;167;01mTypeError\u001b[39;00m:\n\u001b[0;32m   3625\u001b[0m     \u001b[38;5;66;03m# If we have a listlike key, _check_indexing_error will raise\u001b[39;00m\n\u001b[0;32m   3626\u001b[0m     \u001b[38;5;66;03m#  InvalidIndexError. Otherwise we fall through and re-raise\u001b[39;00m\n\u001b[0;32m   3627\u001b[0m     \u001b[38;5;66;03m#  the TypeError.\u001b[39;00m\n\u001b[0;32m   3628\u001b[0m     \u001b[38;5;28mself\u001b[39m\u001b[38;5;241m.\u001b[39m_check_indexing_error(key)\n",
      "\u001b[1;31mKeyError\u001b[0m: 'studio '"
     ]
    }
   ],
   "source": [
    "Top_studios = \"\"\n",
    "for x in bnr_top100_by_gross['studio ']:\n",
    "    Top_studios += str(x) + \",\"\n",
    "Top_studios = Top_studios.split(',')\n",
    "\n",
    "len(Top_studios)"
   ]
  },
  {
   "cell_type": "markdown",
   "metadata": {},
   "source": [
    "## Evaluation\n",
    "Evaluate how well your work solves the stated business problem.\n",
    "\n",
    "***\n",
    "Questions to consider:\n",
    "* How do you interpret the results?\n",
    "* How well does your model fit your data? How much better is this than your baseline model?\n",
    "* How confident are you that your results would generalize beyond the data you have?\n",
    "* How confident are you that this model would benefit the business if put into use?\n",
    "***"
   ]
  },
  {
   "cell_type": "code",
   "execution_count": null,
   "metadata": {},
   "outputs": [],
   "source": []
  },
  {
   "cell_type": "markdown",
   "metadata": {},
   "source": [
    "## Conclusions\n",
    "Provide your conclusions about the work you've done, including any limitations or next steps.\n",
    "\n",
    "***\n",
    "Questions to consider:\n",
    "* What would you recommend the business do as a result of this work?\n",
    "* What are some reasons why your analysis might not fully solve the business problem?\n",
    "* What else could you do in the future to improve this project?\n",
    "***"
   ]
  }
 ],
 "metadata": {
  "kernelspec": {
   "display_name": "Python 3 (ipykernel)",
   "language": "python",
   "name": "python3"
  },
  "language_info": {
   "codemirror_mode": {
    "name": "ipython",
    "version": 3
   },
   "file_extension": ".py",
   "mimetype": "text/x-python",
   "name": "python",
   "nbconvert_exporter": "python",
   "pygments_lexer": "ipython3",
   "version": "3.9.12"
  }
 },
 "nbformat": 4,
 "nbformat_minor": 4
}
