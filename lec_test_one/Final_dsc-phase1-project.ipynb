{
 "cells": [
  {
   "cell_type": "markdown",
   "metadata": {},
   "source": [
    "![example](images/director_shot.jpeg)"
   ]
  },
  {
   "cell_type": "markdown",
   "metadata": {},
   "source": [
    "## Movie Analysis\n",
    "\n",
    "Aurthor: Tori Magin "
   ]
  },
  {
   "cell_type": "markdown",
   "metadata": {},
   "source": [
    "## Overview & Business Problem\n",
    "\n",
    "Microsoft sees big companies creating original video content and they want to do get in on the action. They've decided to a create a new movie studio, but don’t know what type of movies they should make. \n",
    "\n",
    "Without a solid understanding of the current movie landscape, Microsoft will not be able to make confident decisions on content creation. Therefore, this analysis will use data from online data bases, IMDB and Box Office Mojo, to identify trends and highlight elements that typically make a movie successful. For example, does critical acclaim (high ratings) translate to higher revenue. \n",
    "\n",
    "*For this analysis 'success' is defined as box office revenue, i.e., 'gross'. \n",
    "\n"
   ]
  },
  {
   "cell_type": "markdown",
   "metadata": {},
   "source": [
    "## The Data & Method \n",
    "\n",
    "The data for this analysis came IMDB and Box Office Mojo as they have large databases, tracking many features of each movie. For example, IMDB can collate a large number of online reviews from a wide variety of sources to provide a representative average rating. \n",
    "\n",
    "The IMDB data (includes two data sets - \"Basics\" and \"Ratings\") describes the movie titles, release year, genres, running time, and ratings for movies from 2010 to present including future releases. \n",
    "\n",
    "The Box Office Mojo data details the domestic (US) and foreign gross each movie earned from 2010 to 2018. \n",
    "\n",
    "Only movie data from 2015 to 2022 was analysed to focus on the most recent and relevant trends. The average ratings, genres, and runtimes were  compared against the movies' total gross (combined domestic(US) and foreign gross) to identify elements of success. \n"
   ]
  },
  {
   "cell_type": "code",
   "execution_count": 1,
   "metadata": {},
   "outputs": [],
   "source": [
    "# Import standard packages\n",
    "import pandas as pd\n",
    "import numpy as np\n",
    "import matplotlib.pyplot as plt\n",
    "import seaborn as sns\n",
    "\n",
    "%matplotlib inline"
   ]
  },
  {
   "cell_type": "code",
   "execution_count": 2,
   "metadata": {},
   "outputs": [],
   "source": [
    "basics = pd.read_csv(\"data/zippedData/imdb.title.basics.csv.gz\")\n",
    "gross = pd.read_csv(\"data/zippedData/bom.movie_gross.csv.gz\")\n",
    "ratings = pd.read_csv(\"data/zippedData/imdb.title.ratings.csv.gz\")"
   ]
  },
  {
   "cell_type": "markdown",
   "metadata": {},
   "source": [
    "## Data Preparation\n",
    "\n",
    "The largest data set, IMDB Basics, was filtered to records from 2015 - 2022 to remove old and future data which could be unreliable or irrelevant. It was then merged with IMDB Ratings on 'tconst' the IMDB unique movie ID to make bnr (Basics 'n' Ratings)."
   ]
  },
  {
   "cell_type": "code",
   "execution_count": 3,
   "metadata": {},
   "outputs": [],
   "source": [
    "basics['start_year_real']=pd.to_datetime(basics['start_year'], format='%Y')\n",
    "recent_basics = basics.drop(basics[basics['start_year'] < 2015].index)"
   ]
  },
  {
   "cell_type": "code",
   "execution_count": 4,
   "metadata": {},
   "outputs": [],
   "source": [
    "recent_basics = recent_basics.drop(recent_basics[recent_basics['start_year'] > 2022].index)"
   ]
  },
  {
   "cell_type": "code",
   "execution_count": 5,
   "metadata": {},
   "outputs": [],
   "source": [
    " recent_basics = recent_basics.set_index('tconst')\n",
    "ratings = ratings.set_index('tconst')"
   ]
  },
  {
   "cell_type": "code",
   "execution_count": 6,
   "metadata": {},
   "outputs": [],
   "source": [
    "bnr = pd.merge(recent_basics,ratings, on=['tconst'],how='left') "
   ]
  },
  {
   "cell_type": "code",
   "execution_count": 7,
   "metadata": {
    "scrolled": true
   },
   "outputs": [],
   "source": [
    "#To merge with Box Office Mojo's Movie Gross， the 'primary title' column was renames 'title' to provide a common column to merge. \n",
    "bnr.rename(columns = {'primary_title':'title'}, inplace = True)"
   ]
  },
  {
   "cell_type": "markdown",
   "metadata": {},
   "source": [
    "Gross was merged on to the new bnr data frame, however the new data frame (bnr_2) had a lot of missing gross values. \n",
    "Any records missing domestic_gross values were dropped. Because ~80% of the records had no domestic_gross value, they could not be reliably filled with placeholder values. "
   ]
  },
  {
   "cell_type": "code",
   "execution_count": 8,
   "metadata": {},
   "outputs": [],
   "source": [
    "bnr_2 = pd.merge(bnr,gross, on=['title'],how='left') "
   ]
  },
  {
   "cell_type": "code",
   "execution_count": 9,
   "metadata": {},
   "outputs": [],
   "source": [
    "bnr_2.dropna(subset=['domestic_gross'], inplace=True)"
   ]
  },
  {
   "cell_type": "markdown",
   "metadata": {},
   "source": [
    "It was considered to also drop all foreign_gross null values, but this would result it too much data loss and the percentage of missing values was a more acceptable 43.7%, so it was decided to fill the null values with the foreign_gross median. The median was calculated using the original 'gross' dataset. "
   ]
  },
  {
   "cell_type": "code",
   "execution_count": 10,
   "metadata": {},
   "outputs": [
    {
     "data": {
      "text/plain": [
       "0.43741588156123823"
      ]
     },
     "execution_count": 10,
     "metadata": {},
     "output_type": "execute_result"
    }
   ],
   "source": [
    "bnr_2['foreign_gross'].isna().sum() /  (bnr_2['foreign_gross'].count()+bnr_2['foreign_gross'].isna().sum())"
   ]
  },
  {
   "cell_type": "code",
   "execution_count": 11,
   "metadata": {},
   "outputs": [],
   "source": [
    "gross.dropna(subset=['foreign_gross'], inplace=True)\n",
    "gross['foreign_gross'] = gross['foreign_gross'].map(lambda x: x.replace(',',\"\"))"
   ]
  },
  {
   "cell_type": "code",
   "execution_count": 12,
   "metadata": {},
   "outputs": [
    {
     "data": {
      "text/html": [
       "<div>\n",
       "<style scoped>\n",
       "    .dataframe tbody tr th:only-of-type {\n",
       "        vertical-align: middle;\n",
       "    }\n",
       "\n",
       "    .dataframe tbody tr th {\n",
       "        vertical-align: top;\n",
       "    }\n",
       "\n",
       "    .dataframe thead th {\n",
       "        text-align: right;\n",
       "    }\n",
       "</style>\n",
       "<table border=\"1\" class=\"dataframe\">\n",
       "  <thead>\n",
       "    <tr style=\"text-align: right;\">\n",
       "      <th></th>\n",
       "      <th>title</th>\n",
       "      <th>studio</th>\n",
       "      <th>domestic_gross</th>\n",
       "      <th>foreign_gross</th>\n",
       "      <th>year</th>\n",
       "    </tr>\n",
       "  </thead>\n",
       "  <tbody>\n",
       "    <tr>\n",
       "      <th>1872</th>\n",
       "      <td>Star Wars: The Force Awakens</td>\n",
       "      <td>BV</td>\n",
       "      <td>936700000.0</td>\n",
       "      <td>1131.6</td>\n",
       "      <td>2015</td>\n",
       "    </tr>\n",
       "    <tr>\n",
       "      <th>1873</th>\n",
       "      <td>Jurassic World</td>\n",
       "      <td>Uni.</td>\n",
       "      <td>652300000.0</td>\n",
       "      <td>1019.4</td>\n",
       "      <td>2015</td>\n",
       "    </tr>\n",
       "    <tr>\n",
       "      <th>1874</th>\n",
       "      <td>Furious 7</td>\n",
       "      <td>Uni.</td>\n",
       "      <td>353000000.0</td>\n",
       "      <td>1163.0</td>\n",
       "      <td>2015</td>\n",
       "    </tr>\n",
       "  </tbody>\n",
       "</table>\n",
       "</div>"
      ],
      "text/plain": [
       "                             title studio  domestic_gross foreign_gross  year\n",
       "1872  Star Wars: The Force Awakens     BV     936700000.0        1131.6  2015\n",
       "1873                Jurassic World   Uni.     652300000.0        1019.4  2015\n",
       "1874                     Furious 7   Uni.     353000000.0        1163.0  2015"
      ]
     },
     "execution_count": 12,
     "metadata": {},
     "output_type": "execute_result"
    }
   ],
   "source": [
    "gross.iloc[1300:1303]"
   ]
  },
  {
   "cell_type": "markdown",
   "metadata": {},
   "source": [
    "Atfer removing the commas, the values can be converted to floats. However, it's clear these numbers are not correctly formatted. \n",
    "Because there is only three, I manually replaced the values with the true foreign gross. "
   ]
  },
  {
   "cell_type": "code",
   "execution_count": 13,
   "metadata": {},
   "outputs": [
    {
     "data": {
      "text/html": [
       "<div>\n",
       "<style scoped>\n",
       "    .dataframe tbody tr th:only-of-type {\n",
       "        vertical-align: middle;\n",
       "    }\n",
       "\n",
       "    .dataframe tbody tr th {\n",
       "        vertical-align: top;\n",
       "    }\n",
       "\n",
       "    .dataframe thead th {\n",
       "        text-align: right;\n",
       "    }\n",
       "</style>\n",
       "<table border=\"1\" class=\"dataframe\">\n",
       "  <thead>\n",
       "    <tr style=\"text-align: right;\">\n",
       "      <th></th>\n",
       "      <th>title</th>\n",
       "      <th>studio</th>\n",
       "      <th>domestic_gross</th>\n",
       "      <th>foreign_gross</th>\n",
       "      <th>year</th>\n",
       "    </tr>\n",
       "  </thead>\n",
       "  <tbody>\n",
       "    <tr>\n",
       "      <th>1872</th>\n",
       "      <td>Star Wars: The Force Awakens</td>\n",
       "      <td>BV</td>\n",
       "      <td>936700000.0</td>\n",
       "      <td>1131.6</td>\n",
       "      <td>2015</td>\n",
       "    </tr>\n",
       "    <tr>\n",
       "      <th>1873</th>\n",
       "      <td>Jurassic World</td>\n",
       "      <td>Uni.</td>\n",
       "      <td>652300000.0</td>\n",
       "      <td>1019.4</td>\n",
       "      <td>2015</td>\n",
       "    </tr>\n",
       "    <tr>\n",
       "      <th>1874</th>\n",
       "      <td>Furious 7</td>\n",
       "      <td>Uni.</td>\n",
       "      <td>353000000.0</td>\n",
       "      <td>1163.0</td>\n",
       "      <td>2015</td>\n",
       "    </tr>\n",
       "    <tr>\n",
       "      <th>1875</th>\n",
       "      <td>Avengers: Age of Ultron</td>\n",
       "      <td>BV</td>\n",
       "      <td>459000000.0</td>\n",
       "      <td>946400000</td>\n",
       "      <td>2015</td>\n",
       "    </tr>\n",
       "    <tr>\n",
       "      <th>1876</th>\n",
       "      <td>Minions</td>\n",
       "      <td>Uni.</td>\n",
       "      <td>336000000.0</td>\n",
       "      <td>823400000</td>\n",
       "      <td>2015</td>\n",
       "    </tr>\n",
       "  </tbody>\n",
       "</table>\n",
       "</div>"
      ],
      "text/plain": [
       "                             title studio  domestic_gross foreign_gross  year\n",
       "1872  Star Wars: The Force Awakens     BV     936700000.0        1131.6  2015\n",
       "1873                Jurassic World   Uni.     652300000.0        1019.4  2015\n",
       "1874                     Furious 7   Uni.     353000000.0        1163.0  2015\n",
       "1875       Avengers: Age of Ultron     BV     459000000.0     946400000  2015\n",
       "1876                       Minions   Uni.     336000000.0     823400000  2015"
      ]
     },
     "execution_count": 13,
     "metadata": {},
     "output_type": "execute_result"
    }
   ],
   "source": [
    "gross['foreign_gross']= gross['foreign_gross'].replace([1131.6],1131561399)\n",
    "gross['foreign_gross']= gross['foreign_gross'].replace([1019.4],1018130012)\n",
    "gross['foreign_gross']= gross['foreign_gross'].replace([1163.0],1162040651)\n",
    "gross.iloc[1300:1305]"
   ]
  },
  {
   "cell_type": "code",
   "execution_count": 14,
   "metadata": {},
   "outputs": [],
   "source": [
    "gross['foreign_gross']= gross['foreign_gross'].astype('float')\n",
    "f_gross_median = gross['foreign_gross'].median()\n",
    "bnr_2['foreign_gross'] = bnr_2['foreign_gross'].fillna(f_gross_median)"
   ]
  },
  {
   "cell_type": "markdown",
   "metadata": {},
   "source": [
    "The bnr_2 data set also had ',' values, these I replaced by correcting the decimal point position. "
   ]
  },
  {
   "cell_type": "code",
   "execution_count": 15,
   "metadata": {},
   "outputs": [],
   "source": [
    "bnr_2['foreign_gross']= bnr_2['foreign_gross'].replace(['1,131.6'],1131561399)\n",
    "bnr_2['foreign_gross']= bnr_2['foreign_gross'].replace(['1,019.4'],1018130012)\n",
    "bnr_2['foreign_gross']= bnr_2['foreign_gross'].replace(['1,163.0'],1162040651)\n",
    "bnr_2['foreign_gross']= bnr_2['foreign_gross'].replace(['1,369.5'],1369500000)\n",
    "bnr_2['foreign_gross']= bnr_2['foreign_gross'].replace(['1,010.0'],1010000000)"
   ]
  },
  {
   "cell_type": "code",
   "execution_count": 16,
   "metadata": {},
   "outputs": [],
   "source": [
    "bnr_2['foreign_gross'] = bnr_2['foreign_gross'].astype('float')\n",
    "bnr_2['total_gross'] = bnr_2['domestic_gross'] + bnr_2['foreign_gross']"
   ]
  },
  {
   "cell_type": "markdown",
   "metadata": {},
   "source": [
    "#26 records had no genre, so it is easiest to remove this small number of records with missing info. "
   ]
  },
  {
   "cell_type": "code",
   "execution_count": 17,
   "metadata": {},
   "outputs": [],
   "source": [
    "bnr_2= bnr_2.dropna(subset=['genres'])"
   ]
  },
  {
   "cell_type": "code",
   "execution_count": 18,
   "metadata": {},
   "outputs": [],
   "source": [
    "bnr_2['genreslist'] = bnr_2['genres'].tolist()"
   ]
  },
  {
   "cell_type": "code",
   "execution_count": 19,
   "metadata": {},
   "outputs": [
    {
     "name": "stdout",
     "output_type": "stream",
     "text": [
      "18             [Action, Crime, Drama]\n",
      "29        [Action, Adventure, Sci-Fi]\n",
      "30                     [Crime, Drama]\n",
      "32        [Biography, Drama, History]\n",
      "43       [Action, Adventure, Fantasy]\n",
      "                     ...             \n",
      "76661                         [Drama]\n",
      "76726                         [Drama]\n",
      "76871                 [Action, Drama]\n",
      "76901                         [Crime]\n",
      "77239                   [Documentary]\n",
      "Name: genres, Length: 1460, dtype: object\n"
     ]
    }
   ],
   "source": [
    "print(bnr_2['genres'].map(lambda x: x.split(',')))"
   ]
  },
  {
   "cell_type": "code",
   "execution_count": 40,
   "metadata": {},
   "outputs": [
    {
     "data": {
      "text/html": [
       "<div>\n",
       "<style scoped>\n",
       "    .dataframe tbody tr th:only-of-type {\n",
       "        vertical-align: middle;\n",
       "    }\n",
       "\n",
       "    .dataframe tbody tr th {\n",
       "        vertical-align: top;\n",
       "    }\n",
       "\n",
       "    .dataframe thead th {\n",
       "        text-align: right;\n",
       "    }\n",
       "</style>\n",
       "<table border=\"1\" class=\"dataframe\">\n",
       "  <thead>\n",
       "    <tr style=\"text-align: right;\">\n",
       "      <th></th>\n",
       "      <th>title</th>\n",
       "      <th>original_title</th>\n",
       "      <th>start_year</th>\n",
       "      <th>runtime_minutes</th>\n",
       "      <th>genres</th>\n",
       "      <th>start_year_real</th>\n",
       "      <th>averagerating</th>\n",
       "      <th>numvotes</th>\n",
       "      <th>studio</th>\n",
       "      <th>domestic_gross</th>\n",
       "      <th>foreign_gross</th>\n",
       "      <th>year</th>\n",
       "      <th>total_gross</th>\n",
       "      <th>genreslist</th>\n",
       "    </tr>\n",
       "  </thead>\n",
       "  <tbody>\n",
       "    <tr>\n",
       "      <th>10988</th>\n",
       "      <td>Experimenter</td>\n",
       "      <td>Experimenter</td>\n",
       "      <td>2015</td>\n",
       "      <td>98.0</td>\n",
       "      <td>Biography,Drama,History</td>\n",
       "      <td>2015-01-01</td>\n",
       "      <td>6.6</td>\n",
       "      <td>16099.0</td>\n",
       "      <td>Magn.</td>\n",
       "      <td>156000.0</td>\n",
       "      <td>18700000.0</td>\n",
       "      <td>2015.0</td>\n",
       "      <td>18856000.0</td>\n",
       "      <td>Biography,Drama,History</td>\n",
       "    </tr>\n",
       "    <tr>\n",
       "      <th>8974</th>\n",
       "      <td>Fan</td>\n",
       "      <td>Anemistiras</td>\n",
       "      <td>2015</td>\n",
       "      <td>90.0</td>\n",
       "      <td>Drama</td>\n",
       "      <td>2015-01-01</td>\n",
       "      <td>5.8</td>\n",
       "      <td>22.0</td>\n",
       "      <td>Yash</td>\n",
       "      <td>2300000.0</td>\n",
       "      <td>25900000.0</td>\n",
       "      <td>2016.0</td>\n",
       "      <td>28200000.0</td>\n",
       "      <td>Drama</td>\n",
       "    </tr>\n",
       "    <tr>\n",
       "      <th>8848</th>\n",
       "      <td>Pan</td>\n",
       "      <td>Pan</td>\n",
       "      <td>2015</td>\n",
       "      <td>111.0</td>\n",
       "      <td>Adventure,Comedy,Family</td>\n",
       "      <td>2015-01-01</td>\n",
       "      <td>5.8</td>\n",
       "      <td>55867.0</td>\n",
       "      <td>WB</td>\n",
       "      <td>35100000.0</td>\n",
       "      <td>93300000.0</td>\n",
       "      <td>2015.0</td>\n",
       "      <td>128400000.0</td>\n",
       "      <td>Adventure,Comedy,Family</td>\n",
       "    </tr>\n",
       "    <tr>\n",
       "      <th>8781</th>\n",
       "      <td>Regression</td>\n",
       "      <td>Regression</td>\n",
       "      <td>2015</td>\n",
       "      <td>106.0</td>\n",
       "      <td>Crime,Horror,Mystery</td>\n",
       "      <td>2015-01-01</td>\n",
       "      <td>5.7</td>\n",
       "      <td>33335.0</td>\n",
       "      <td>W/Dim.</td>\n",
       "      <td>55000.0</td>\n",
       "      <td>17600000.0</td>\n",
       "      <td>2016.0</td>\n",
       "      <td>17655000.0</td>\n",
       "      <td>Crime,Horror,Mystery</td>\n",
       "    </tr>\n",
       "    <tr>\n",
       "      <th>19055</th>\n",
       "      <td>Eva</td>\n",
       "      <td>Eva</td>\n",
       "      <td>2015</td>\n",
       "      <td>82.0</td>\n",
       "      <td>Drama</td>\n",
       "      <td>2015-01-01</td>\n",
       "      <td>NaN</td>\n",
       "      <td>NaN</td>\n",
       "      <td>Wein.</td>\n",
       "      <td>16700.0</td>\n",
       "      <td>18700000.0</td>\n",
       "      <td>2015.0</td>\n",
       "      <td>18716700.0</td>\n",
       "      <td>Drama</td>\n",
       "    </tr>\n",
       "    <tr>\n",
       "      <th>...</th>\n",
       "      <td>...</td>\n",
       "      <td>...</td>\n",
       "      <td>...</td>\n",
       "      <td>...</td>\n",
       "      <td>...</td>\n",
       "      <td>...</td>\n",
       "      <td>...</td>\n",
       "      <td>...</td>\n",
       "      <td>...</td>\n",
       "      <td>...</td>\n",
       "      <td>...</td>\n",
       "      <td>...</td>\n",
       "      <td>...</td>\n",
       "      <td>...</td>\n",
       "    </tr>\n",
       "    <tr>\n",
       "      <th>69041</th>\n",
       "      <td>The Last Stand</td>\n",
       "      <td>The Last Stand</td>\n",
       "      <td>2019</td>\n",
       "      <td>93.0</td>\n",
       "      <td>Drama</td>\n",
       "      <td>2019-01-01</td>\n",
       "      <td>NaN</td>\n",
       "      <td>NaN</td>\n",
       "      <td>LGF</td>\n",
       "      <td>12100000.0</td>\n",
       "      <td>36300000.0</td>\n",
       "      <td>2013.0</td>\n",
       "      <td>48400000.0</td>\n",
       "      <td>Drama</td>\n",
       "    </tr>\n",
       "    <tr>\n",
       "      <th>62039</th>\n",
       "      <td>Remember Me</td>\n",
       "      <td>Remember Me</td>\n",
       "      <td>2019</td>\n",
       "      <td>NaN</td>\n",
       "      <td>Thriller</td>\n",
       "      <td>2019-01-01</td>\n",
       "      <td>NaN</td>\n",
       "      <td>NaN</td>\n",
       "      <td>Sum.</td>\n",
       "      <td>19100000.0</td>\n",
       "      <td>37000000.0</td>\n",
       "      <td>2010.0</td>\n",
       "      <td>56100000.0</td>\n",
       "      <td>Thriller</td>\n",
       "    </tr>\n",
       "    <tr>\n",
       "      <th>77239</th>\n",
       "      <td>Unstoppable</td>\n",
       "      <td>Unstoppable</td>\n",
       "      <td>2019</td>\n",
       "      <td>84.0</td>\n",
       "      <td>Documentary</td>\n",
       "      <td>2019-01-01</td>\n",
       "      <td>8.1</td>\n",
       "      <td>8.0</td>\n",
       "      <td>Fox</td>\n",
       "      <td>81600000.0</td>\n",
       "      <td>86200000.0</td>\n",
       "      <td>2010.0</td>\n",
       "      <td>167800000.0</td>\n",
       "      <td>Documentary</td>\n",
       "    </tr>\n",
       "    <tr>\n",
       "      <th>3927</th>\n",
       "      <td>Eden</td>\n",
       "      <td>Eden</td>\n",
       "      <td>2020</td>\n",
       "      <td>NaN</td>\n",
       "      <td>Drama</td>\n",
       "      <td>2020-01-01</td>\n",
       "      <td>NaN</td>\n",
       "      <td>NaN</td>\n",
       "      <td>BG</td>\n",
       "      <td>65500.0</td>\n",
       "      <td>18700000.0</td>\n",
       "      <td>2015.0</td>\n",
       "      <td>18765500.0</td>\n",
       "      <td>Drama</td>\n",
       "    </tr>\n",
       "    <tr>\n",
       "      <th>72288</th>\n",
       "      <td>Cherry</td>\n",
       "      <td>Cherry</td>\n",
       "      <td>2020</td>\n",
       "      <td>NaN</td>\n",
       "      <td>Drama</td>\n",
       "      <td>2020-01-01</td>\n",
       "      <td>NaN</td>\n",
       "      <td>NaN</td>\n",
       "      <td>Abr.</td>\n",
       "      <td>11400.0</td>\n",
       "      <td>18700000.0</td>\n",
       "      <td>2010.0</td>\n",
       "      <td>18711400.0</td>\n",
       "      <td>Drama</td>\n",
       "    </tr>\n",
       "  </tbody>\n",
       "</table>\n",
       "<p>1460 rows × 14 columns</p>\n",
       "</div>"
      ],
      "text/plain": [
       "                title  original_title  start_year  runtime_minutes  \\\n",
       "10988    Experimenter    Experimenter        2015             98.0   \n",
       "8974              Fan     Anemistiras        2015             90.0   \n",
       "8848              Pan             Pan        2015            111.0   \n",
       "8781       Regression      Regression        2015            106.0   \n",
       "19055             Eva             Eva        2015             82.0   \n",
       "...               ...             ...         ...              ...   \n",
       "69041  The Last Stand  The Last Stand        2019             93.0   \n",
       "62039     Remember Me     Remember Me        2019              NaN   \n",
       "77239     Unstoppable     Unstoppable        2019             84.0   \n",
       "3927             Eden            Eden        2020              NaN   \n",
       "72288          Cherry          Cherry        2020              NaN   \n",
       "\n",
       "                        genres start_year_real  averagerating  numvotes  \\\n",
       "10988  Biography,Drama,History      2015-01-01            6.6   16099.0   \n",
       "8974                     Drama      2015-01-01            5.8      22.0   \n",
       "8848   Adventure,Comedy,Family      2015-01-01            5.8   55867.0   \n",
       "8781      Crime,Horror,Mystery      2015-01-01            5.7   33335.0   \n",
       "19055                    Drama      2015-01-01            NaN       NaN   \n",
       "...                        ...             ...            ...       ...   \n",
       "69041                    Drama      2019-01-01            NaN       NaN   \n",
       "62039                 Thriller      2019-01-01            NaN       NaN   \n",
       "77239              Documentary      2019-01-01            8.1       8.0   \n",
       "3927                     Drama      2020-01-01            NaN       NaN   \n",
       "72288                    Drama      2020-01-01            NaN       NaN   \n",
       "\n",
       "       studio  domestic_gross  foreign_gross    year  total_gross  \\\n",
       "10988   Magn.        156000.0     18700000.0  2015.0   18856000.0   \n",
       "8974     Yash       2300000.0     25900000.0  2016.0   28200000.0   \n",
       "8848       WB      35100000.0     93300000.0  2015.0  128400000.0   \n",
       "8781   W/Dim.         55000.0     17600000.0  2016.0   17655000.0   \n",
       "19055   Wein.         16700.0     18700000.0  2015.0   18716700.0   \n",
       "...       ...             ...            ...     ...          ...   \n",
       "69041     LGF      12100000.0     36300000.0  2013.0   48400000.0   \n",
       "62039    Sum.      19100000.0     37000000.0  2010.0   56100000.0   \n",
       "77239     Fox      81600000.0     86200000.0  2010.0  167800000.0   \n",
       "3927       BG         65500.0     18700000.0  2015.0   18765500.0   \n",
       "72288    Abr.         11400.0     18700000.0  2010.0   18711400.0   \n",
       "\n",
       "                    genreslist  \n",
       "10988  Biography,Drama,History  \n",
       "8974                     Drama  \n",
       "8848   Adventure,Comedy,Family  \n",
       "8781      Crime,Horror,Mystery  \n",
       "19055                    Drama  \n",
       "...                        ...  \n",
       "69041                    Drama  \n",
       "62039                 Thriller  \n",
       "77239              Documentary  \n",
       "3927                     Drama  \n",
       "72288                    Drama  \n",
       "\n",
       "[1460 rows x 14 columns]"
      ]
     },
     "execution_count": 40,
     "metadata": {},
     "output_type": "execute_result"
    }
   ],
   "source": [
    "bnr_2.sort_values('start_year')"
   ]
  },
  {
   "cell_type": "markdown",
   "metadata": {},
   "source": [
    "## Data Modeling\n",
    "\n",
    "The average ratings, genres, and runtimes were compared against the movies' total gross (combined domestic (US) and foreign gross) to identify elements of success. \n",
    "\n",
    "The data was separated into Top 100 Movies (highest total gross) and Bottom 100 Movies (lowest total gross) to provide two comparative sample sets. "
   ]
  },
  {
   "cell_type": "markdown",
   "metadata": {},
   "source": [
    "### 1. Analysis by Ratings"
   ]
  },
  {
   "cell_type": "markdown",
   "metadata": {},
   "source": [
    "Ratings of the top and bottom 100 movies (by total gross) were examined. "
   ]
  },
  {
   "cell_type": "code",
   "execution_count": 21,
   "metadata": {},
   "outputs": [
    {
     "data": {
      "text/plain": [
       "100"
      ]
     },
     "execution_count": 21,
     "metadata": {},
     "output_type": "execute_result"
    }
   ],
   "source": [
    "by_gross = bnr_2.sort_values('total_gross', ascending=False)\n",
    "top_100 = by_gross['total_gross'][0:100]\n",
    "top_100 = list(top_100)\n",
    "\n",
    "len(top_100)"
   ]
  },
  {
   "cell_type": "code",
   "execution_count": 22,
   "metadata": {},
   "outputs": [
    {
     "data": {
      "text/plain": [
       "100"
      ]
     },
     "execution_count": 22,
     "metadata": {},
     "output_type": "execute_result"
    }
   ],
   "source": [
    "best_100 = by_gross['averagerating'][0:100]\n",
    "best_100 = list(best_100)\n",
    "\n",
    "len(best_100)"
   ]
  },
  {
   "cell_type": "code",
   "execution_count": 23,
   "metadata": {},
   "outputs": [],
   "source": [
    "bottom_gross = bnr_2.sort_values('total_gross')\n",
    "bottom_100 = bottom_gross['total_gross'][0:100]\n",
    "bottom_100 = list(bottom_100)"
   ]
  },
  {
   "cell_type": "code",
   "execution_count": 24,
   "metadata": {},
   "outputs": [
    {
     "data": {
      "text/plain": [
       "100"
      ]
     },
     "execution_count": 24,
     "metadata": {},
     "output_type": "execute_result"
    }
   ],
   "source": [
    "worst_100 = bottom_gross['averagerating'][0:100]\n",
    "worst_100 = list(worst_100)\n",
    "\n",
    "len(worst_100)"
   ]
  },
  {
   "cell_type": "code",
   "execution_count": 25,
   "metadata": {},
   "outputs": [
    {
     "data": {
      "text/html": [
       "<div>\n",
       "<style scoped>\n",
       "    .dataframe tbody tr th:only-of-type {\n",
       "        vertical-align: middle;\n",
       "    }\n",
       "\n",
       "    .dataframe tbody tr th {\n",
       "        vertical-align: top;\n",
       "    }\n",
       "\n",
       "    .dataframe thead th {\n",
       "        text-align: right;\n",
       "    }\n",
       "</style>\n",
       "<table border=\"1\" class=\"dataframe\">\n",
       "  <thead>\n",
       "    <tr style=\"text-align: right;\">\n",
       "      <th></th>\n",
       "      <th>Gross</th>\n",
       "      <th>AvgRatings</th>\n",
       "    </tr>\n",
       "  </thead>\n",
       "  <tbody>\n",
       "    <tr>\n",
       "      <th>Gross</th>\n",
       "      <td>1.000000</td>\n",
       "      <td>0.329525</td>\n",
       "    </tr>\n",
       "    <tr>\n",
       "      <th>AvgRatings</th>\n",
       "      <td>0.329525</td>\n",
       "      <td>1.000000</td>\n",
       "    </tr>\n",
       "  </tbody>\n",
       "</table>\n",
       "</div>"
      ],
      "text/plain": [
       "               Gross  AvgRatings\n",
       "Gross       1.000000    0.329525\n",
       "AvgRatings  0.329525    1.000000"
      ]
     },
     "execution_count": 25,
     "metadata": {},
     "output_type": "execute_result"
    }
   ],
   "source": [
    "tops = pd.DataFrame()\n",
    "tops['Gross'] = top_100\n",
    "tops['AvgRatings'] = best_100\n",
    "tops = tops.dropna()\n",
    "\n",
    "TopRatingsCor = tops.corr(method='pearson')\n",
    "TopRatingsCor"
   ]
  },
  {
   "cell_type": "code",
   "execution_count": 26,
   "metadata": {},
   "outputs": [
    {
     "data": {
      "text/html": [
       "<div>\n",
       "<style scoped>\n",
       "    .dataframe tbody tr th:only-of-type {\n",
       "        vertical-align: middle;\n",
       "    }\n",
       "\n",
       "    .dataframe tbody tr th {\n",
       "        vertical-align: top;\n",
       "    }\n",
       "\n",
       "    .dataframe thead th {\n",
       "        text-align: right;\n",
       "    }\n",
       "</style>\n",
       "<table border=\"1\" class=\"dataframe\">\n",
       "  <thead>\n",
       "    <tr style=\"text-align: right;\">\n",
       "      <th></th>\n",
       "      <th>gross</th>\n",
       "      <th>Avg_Rating</th>\n",
       "      <th>runtime</th>\n",
       "    </tr>\n",
       "  </thead>\n",
       "  <tbody>\n",
       "    <tr>\n",
       "      <th>gross</th>\n",
       "      <td>1.000000</td>\n",
       "      <td>0.135255</td>\n",
       "      <td>0.137843</td>\n",
       "    </tr>\n",
       "    <tr>\n",
       "      <th>Avg_Rating</th>\n",
       "      <td>0.135255</td>\n",
       "      <td>1.000000</td>\n",
       "      <td>0.198598</td>\n",
       "    </tr>\n",
       "    <tr>\n",
       "      <th>runtime</th>\n",
       "      <td>0.137843</td>\n",
       "      <td>0.198598</td>\n",
       "      <td>1.000000</td>\n",
       "    </tr>\n",
       "  </tbody>\n",
       "</table>\n",
       "</div>"
      ],
      "text/plain": [
       "               gross  Avg_Rating   runtime\n",
       "gross       1.000000    0.135255  0.137843\n",
       "Avg_Rating  0.135255    1.000000  0.198598\n",
       "runtime     0.137843    0.198598  1.000000"
      ]
     },
     "execution_count": 26,
     "metadata": {},
     "output_type": "execute_result"
    }
   ],
   "source": [
    "CorrelationDF = pd.DataFrame()\n",
    "CorrelationDF['gross'] = bnr_2['total_gross']\n",
    "CorrelationDF['Avg_Rating'] = bnr_2['averagerating']\n",
    "CorrelationDF['runtime'] = bnr_2['runtime_minutes']\n",
    "\n",
    "CorrelationDF\n",
    "correlation = CorrelationDF.corr(method='pearson')\n",
    "correlation"
   ]
  },
  {
   "cell_type": "markdown",
   "metadata": {},
   "source": [
    " AVG Rating Vs Gross Scatter Plot "
   ]
  },
  {
   "cell_type": "code",
   "execution_count": 28,
   "metadata": {},
   "outputs": [
    {
     "data": {
      "image/png": "[encoded data removed]",
      "text/plain": [
       "<Figure size 792x288 with 2 Axes>"
      ]
     },
     "metadata": {
      "needs_background": "light"
     },
     "output_type": "display_data"
    }
   ],
   "source": [
    "fig, (ax1, ax2) = plt.subplots(figsize=(11,4), ncols=2)\n",
    "\n",
    "ax1.scatter(x=top_100, y=best_100, color='purple', marker='h')\n",
    "ax1.set_xlabel('Total Gross ($ Bil)', fontsize=13)\n",
    "ax1.set_ylabel('Avg Rating',  fontsize=13)\n",
    "ax1.set_title('Top 100 Movies by Gross', fontsize=14)\n",
    "\n",
    "\n",
    "ax2.scatter(x=bottom_100, y=worst_100,color='darkcyan', marker='h')\n",
    "ax2.set_xlabel('Total Gross ($ Mil)', fontsize=13)\n",
    "ax2.set_ylabel('Avg Rating',  fontsize=13)\n",
    "ax2.set_title('Bottom 100 Movies by Gross', fontsize=14)\n",
    "\n",
    "fig.suptitle(\"Avg Ratings Vs Total Gross\", fontsize=24, x=0.51, y=1.1)\n",
    "\n",
    "plt.savefig('./images/RatingsGrossScatter.png', bbox_inches = \"tight\")\n"
   ]
  },
  {
   "cell_type": "markdown",
   "metadata": {},
   "source": [
    "### 2. Analysis by Runtime \n"
   ]
  },
  {
   "cell_type": "code",
   "execution_count": null,
   "metadata": {},
   "outputs": [],
   "source": [
    "top_by_runtime = bnr_2.sort_values('total_gross', ascending=False)\n",
    "Time_top_100 = top_by_runtime['runtime_minutes'][0:100]\n",
    "Time_top_100 = list(Time_top_100)\n",
    "\n",
    "Top_Avg_Runtime = (str(sum(Time_top_100) / 100) + \" mins\")\n",
    "\n",
    "Top_Avg_Runtime"
   ]
  },
  {
   "cell_type": "code",
   "execution_count": null,
   "metadata": {},
   "outputs": [],
   "source": [
    "TopRuntime = pd.DataFrame()\n",
    "TopRuntime['Gross'] = top_100\n",
    "TopRuntime['Runtime'] = Time_top_100 \n",
    "\n",
    "TopRuntime = TopRuntime.dropna()\n"
   ]
  },
  {
   "cell_type": "code",
   "execution_count": null,
   "metadata": {},
   "outputs": [],
   "source": [
    "bottom_by_runtime = bnr_2.sort_values('total_gross')\n",
    "Time_bottom_100 = bottom_by_runtime['runtime_minutes'][0:100]\n",
    "Time_bottom_100 = list(Time_bottom_100)\n"
   ]
  },
  {
   "cell_type": "code",
   "execution_count": null,
   "metadata": {},
   "outputs": [],
   "source": [
    "BottomsRuntime = pd.DataFrame()\n",
    "BottomsRuntime['Gross'] = bottom_100\n",
    "BottomsRuntime['Runtime'] = Time_bottom_100 \n",
    "\n",
    "BottomsRuntime = BottomsRuntime.dropna()\n",
    "\n",
    "Avg_Bottom_Runtime = BottomsRuntime['Runtime'].mean()\n",
    "Avg_Bottom_Runtime"
   ]
  },
  {
   "cell_type": "markdown",
   "metadata": {},
   "source": [
    " Runtime Vs Gross Scatter Plot "
   ]
  },
  {
   "cell_type": "code",
   "execution_count": null,
   "metadata": {},
   "outputs": [],
   "source": [
    "fig, (ax3, ax4) = plt.subplots(figsize=(11,4), ncols=2)\n",
    "\n",
    "ax3.scatter(x=top_100, y=Time_top_100, color='purple', marker='h')\n",
    "ax3.set_title('Top 100 Movies by Gross', fontsize = 14)\n",
    "ax3.set_xlabel('Total Gross ($ Bil)', fontsize = 13)\n",
    "ax3.set_ylabel('Runtime (minutes)', fontsize = 12)\n",
    "\n",
    "\n",
    "ax4.scatter(x=bottom_100, y=Time_bottom_100,color='darkcyan', marker='h')\n",
    "ax4.set_title('Bottom 100 Movies by Gross', fontsize = 14)\n",
    "ax4.set_xlabel('Total Gross ($ Mil )', fontsize = 13)\n",
    "ax4.set_ylabel('Runtime (minutes)', fontsize = 12)\n",
    "\n",
    "plt.savefig('./images/RuntimeGrossScatter.png', bbox_inches = \"tight\")\n",
    "\n",
    "fig.suptitle(\"Runtime Vs Gross\", fontsize=24, x=0.51, y=1.1)\n"
   ]
  },
  {
   "cell_type": "markdown",
   "metadata": {},
   "source": [
    "### 3. Analysis by Genre \n"
   ]
  },
  {
   "cell_type": "code",
   "execution_count": null,
   "metadata": {},
   "outputs": [],
   "source": [
    "bnr_by_gross = bnr_2.sort_values('total_gross', ascending=False)\n",
    "bnr_top100_by_gross = bnr_by_gross[0:100]"
   ]
  },
  {
   "cell_type": "code",
   "execution_count": null,
   "metadata": {},
   "outputs": [],
   "source": [
    "Top_genres = \"\"\n",
    "for x in bnr_top100_by_gross['genreslist']:\n",
    "    Top_genres += str(x) + \",\"\n",
    "Top_genres = Top_genres.split(',')\n",
    "\n",
    "len(Top_genres)"
   ]
  },
  {
   "cell_type": "code",
   "execution_count": null,
   "metadata": {
    "scrolled": true
   },
   "outputs": [],
   "source": [
    "from collections import Counter\n",
    "top_counts_average = Counter(Top_genres).most_common()\n",
    "print(top_counts_average)\n",
    "type(top_counts_average)"
   ]
  },
  {
   "cell_type": "code",
   "execution_count": null,
   "metadata": {},
   "outputs": [],
   "source": [
    "top_names = []\n",
    "for x in top_counts_average:\n",
    "    top_names.append(x[0])"
   ]
  },
  {
   "cell_type": "code",
   "execution_count": null,
   "metadata": {},
   "outputs": [],
   "source": [
    "top_values = []\n",
    "for x in top_counts_average:\n",
    "    top_values.append(x[1])"
   ]
  },
  {
   "cell_type": "code",
   "execution_count": null,
   "metadata": {},
   "outputs": [],
   "source": [
    "bnr_by_gross_bottom = bnr_2.sort_values('total_gross')\n",
    "bnr_bottom100_by_gross = bnr_by_gross_bottom[0:100]\n",
    "\n",
    "len(bnr_bottom100_by_gross)"
   ]
  },
  {
   "cell_type": "code",
   "execution_count": null,
   "metadata": {},
   "outputs": [],
   "source": [
    "bottom_genres = \"\"\n",
    "for x in bnr_bottom100_by_gross['genreslist']:\n",
    "    bottom_genres += str(x) + \",\"\n",
    "bottom_genres = bottom_genres.split(',')\n",
    "\n",
    "len(bottom_genres)"
   ]
  },
  {
   "cell_type": "code",
   "execution_count": null,
   "metadata": {},
   "outputs": [],
   "source": [
    "from collections import Counter\n",
    "bottom_counts_average = Counter(bottom_genres).most_common()\n",
    "bottom_counts_average = bottom_counts_average[0:20]\n",
    "len(bottom_counts_average)"
   ]
  },
  {
   "cell_type": "code",
   "execution_count": null,
   "metadata": {},
   "outputs": [],
   "source": [
    "bottom_names = []\n",
    "for x in bottom_counts_average:\n",
    "    bottom_names.append(x[0])\n",
    "\n",
    "bottom_names = bottom_names[0:20]"
   ]
  },
  {
   "cell_type": "code",
   "execution_count": null,
   "metadata": {},
   "outputs": [],
   "source": [
    "bottom_values = []\n",
    "for x in bottom_counts_average:\n",
    "    bottom_values.append(x[1])\n",
    "\n",
    "bottom_values = bottom_values[0:20]\n",
    "print(bottom_names)\n",
    "print(bottom_values)"
   ]
  },
  {
   "cell_type": "markdown",
   "metadata": {},
   "source": [
    "Genre & Gross - Bar Chart"
   ]
  },
  {
   "cell_type": "code",
   "execution_count": null,
   "metadata": {},
   "outputs": [],
   "source": [
    "fig, (gt,gb) = plt.subplots(figsize=(15,6), ncols=2)\n",
    "\n",
    "gt.bar(range(len(top_counts_average)), top_values, color=('purple'), tick_label=top_names)\n",
    "plt.xticks(rotation = 90)\n",
    "gt.set_ylabel('Number of movies', fontsize=14)\n",
    "gt.set_xlabel('Genres')\n",
    "gt.set_title('Top 100 Movie - Genres', fontweight=\"bold\", fontsize =16)\n",
    "\n",
    "\n",
    "gb.bar(range(len(bottom_counts_average)), bottom_values,color=('darkcyan'), tick_label=bottom_names)\n",
    "plt.xticks(rotation=90)\n",
    "gb.set_ylabel('Number of movies', fontsize=14)\n",
    "gb.set_xlabel('Genres')\n",
    "gb.set_title('Bottom 100 Movie - Genres', fontweight=\"bold\",  fontsize =16)\n",
    "fig.tight_layout()\n",
    "plt.savefig('./images/Genres_Top_n_Bottom.png', bbox_inches = \"tight\")\n",
    "plt.show();\n",
    "\n",
    "fig.suptitle('Common Genres for the Top & Bottom Movie Lists', fontsize = '24')"
   ]
  },
  {
   "cell_type": "markdown",
   "metadata": {},
   "source": [
    "Identifying Top Studios"
   ]
  },
  {
   "cell_type": "code",
   "execution_count": null,
   "metadata": {},
   "outputs": [],
   "source": [
    "Top_studios = \"\"\n",
    "for x in bnr_top100_by_gross['studio']:\n",
    "    Top_studios += str(x) + \",\"\n",
    "Top_studios = Top_studios.split(',')\n",
    "\n",
    "len(Top_studios)"
   ]
  },
  {
   "cell_type": "code",
   "execution_count": null,
   "metadata": {},
   "outputs": [],
   "source": [
    "from collections import Counter\n",
    "topS_counts_average = Counter(Top_studios).most_common()\n",
    "print(topS_counts_average)\n",
    "type(topS_counts_average)"
   ]
  },
  {
   "cell_type": "code",
   "execution_count": null,
   "metadata": {},
   "outputs": [],
   "source": [
    "topS_names = []\n",
    "for x in topS_counts_average:\n",
    "    topS_names.append(x[0])\n",
    "len(topS_names)"
   ]
  },
  {
   "cell_type": "code",
   "execution_count": null,
   "metadata": {},
   "outputs": [],
   "source": [
    "topS_values = []\n",
    "for x in topS_counts_average:\n",
    "    topS_values.append(x[1])\n",
    "len(topS_values)"
   ]
  },
  {
   "cell_type": "code",
   "execution_count": null,
   "metadata": {},
   "outputs": [],
   "source": [
    "Bottom_studios = \"\"\n",
    "for x in bnr_bottom100_by_gross['studio']:\n",
    "    Bottom_studios += str(x) + \",\"\n",
    "Bottom_studios = Bottom_studios.split(',')\n",
    "\n",
    "len(Bottom_studios)"
   ]
  },
  {
   "cell_type": "code",
   "execution_count": null,
   "metadata": {},
   "outputs": [],
   "source": [
    "from collections import Counter\n",
    "bottomS_counts_average = Counter(Bottom_studios).most_common()\n",
    "type(bottomS_counts_average)"
   ]
  },
  {
   "cell_type": "code",
   "execution_count": null,
   "metadata": {},
   "outputs": [],
   "source": [
    "bottomS_names = []\n",
    "for x in bottomS_counts_average:\n",
    "    bottomS_names.append(x[0])\n",
    "len(bottomS_names)"
   ]
  },
  {
   "cell_type": "code",
   "execution_count": null,
   "metadata": {},
   "outputs": [],
   "source": [
    "bottomS_values = []\n",
    "for x in bottomS_counts_average:\n",
    "    bottomS_values.append(x[1])\n",
    "len(bottomS_values)"
   ]
  },
  {
   "cell_type": "code",
   "execution_count": null,
   "metadata": {},
   "outputs": [],
   "source": [
    "Top_Studios = pd.DataFrame()\n",
    "Top_Studios['StudioName'] = topS_names\n",
    "Top_Studios['#_of_Top100_Movies'] = topS_values\n",
    "\n",
    "Top_Studios"
   ]
  },
  {
   "cell_type": "code",
   "execution_count": null,
   "metadata": {},
   "outputs": [],
   "source": [
    "Bottom_Studios = pd.DataFrame()\n",
    "Bottom_Studios['StudioName'] = bottomS_names\n",
    "Bottom_Studios['#_of_Bottom100_Movies'] = bottomS_values\n"
   ]
  },
  {
   "cell_type": "code",
   "execution_count": null,
   "metadata": {},
   "outputs": [],
   "source": [
    "bnr_2.sort_values('start_year', ascending=False)"
   ]
  },
  {
   "cell_type": "raw",
   "metadata": {},
   "source": []
  },
  {
   "cell_type": "markdown",
   "metadata": {},
   "source": [
    "## Evaluation\n",
    "Evaluate how well your work solves the stated business problem.\n",
    "\n",
    "Overall, the above data modelling does provide some useful insights, such as what genre of films to focus on and avoid. However, there's still many unknow factors for further analysis. For example, the movie production  costs are unknown, so we cannot examine net profit or loss. \n",
    "\n",
    "With more time, I would also run the same analysis over larger samples, for exmaple Top and Bottom 300 (which is approx. 20% of BNR_2). This may provide better generalisation of results. "
   ]
  },
  {
   "cell_type": "markdown",
   "metadata": {},
   "source": [
    "## Recommendations\n",
    "\n",
    "1. Microsoft should not try to make content decisions based on potential movie ratings as:\n",
    "  - The impact of ratings on gross is rather minor, and; \n",
    "  - A studio has limited direct control over future reviews.  \n",
    "2. The runtime influence is also minor, but it is worth noting the significant difference in average runtime between Top and Bottom 100 Movies. This indicates audiences prefer longer, epic-like movies and is an area Microsoft should research for further insights. \n",
    "\n",
    "3. Microsoft should focus on action and adventure movies and avoid dramas and documentaries. The clearest distinction between the Top and Bottom 100 is the composition of genre, so this area should be considered most seriously.\n",
    "\n",
    "4. Microsoft could consider the list of studios that produced the Top 100 and research further how these studios operate to gain insights on how successful movies are chosen and produced. \n",
    "\n",
    "\n",
    "## Conclusion\n",
    "This analysis demonstrated the major factor influencing a movie’s success is the genre. Audiences have a strong preference for action and adventure movies and, to a lesser extent, comedy and animation. \n",
    "This analysis only looked at movie gross. Further research should examine movies by net profit and less to gain a better understanding profitability. \n",
    "Other factors, ratings and runtime, were not strongly correlated with the total movie gross. \n",
    "\n",
    "## Next Steps\n",
    " 1. Conduct further research into movie production costs to understand the relationship between ratings, runtime, and genre and net profit or loss. \n",
    " \n",
    " 2. Explore other related factors to find stronger relationships. For example, the movie rating appeared to have little impact on movie gross, but number of reviews/ratings (i.e., level of media exposure) may be more impactful and worth examining. "
   ]
  },
  {
   "cell_type": "code",
   "execution_count": null,
   "metadata": {},
   "outputs": [],
   "source": [
    "***"
   ]
  }
 ],
 "metadata": {
  "kernelspec": {
   "display_name": "Python 3 (ipykernel)",
   "language": "python",
   "name": "python3"
  },
  "language_info": {
   "codemirror_mode": {
    "name": "ipython",
    "version": 3
   },
   "file_extension": ".py",
   "mimetype": "text/x-python",
   "name": "python",
   "nbconvert_exporter": "python",
   "pygments_lexer": "ipython3",
   "version": "3.9.12"
  }
 },
 "nbformat": 4,
 "nbformat_minor": 4
}
